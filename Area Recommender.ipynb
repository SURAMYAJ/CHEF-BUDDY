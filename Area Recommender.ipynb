{
 "cells": [
  {
   "cell_type": "markdown",
   "id": "6a2b9f4b",
   "metadata": {},
   "source": [
    "# Importing The Required Libraries"
   ]
  },
  {
   "cell_type": "code",
   "execution_count": 22,
   "id": "5f769ef0",
   "metadata": {},
   "outputs": [],
   "source": [
    "import numpy as np\n",
    "import pandas as pd\n",
    "import matplotlib.pyplot as plt\n",
    "from sklearn.model_selection import train_test_split\n",
    "from sklearn.linear_model import LogisticRegression\n",
    "from sklearn.metrics import accuracy_score\n",
    "from sklearn.preprocessing import LabelEncoder\n",
    "from sklearn.neighbors import KNeighborsClassifier\n",
    "from sklearn.naive_bayes import MultinomialNB # Multinomial Naive Bayes\n",
    "from sklearn.ensemble import RandomForestClassifier\n",
    "from sklearn.svm import SVC  # Support Vector Classifier\n",
    "from sklearn.naive_bayes import GaussianNB # Gaussian Naive Bayes \n",
    "from sklearn.feature_extraction.text import CountVectorizer\n",
    "import warnings\n",
    "\n",
    "# Disable warning display\n",
    "warnings.filterwarnings('ignore')"
   ]
  },
  {
   "cell_type": "markdown",
   "id": "5449e8f6",
   "metadata": {},
   "source": [
    "# Importing Area Prediction Dataset"
   ]
  },
  {
   "cell_type": "code",
   "execution_count": 23,
   "id": "069fee4c",
   "metadata": {},
   "outputs": [
    {
     "data": {
      "text/html": [
       "<div>\n",
       "<style scoped>\n",
       "    .dataframe tbody tr th:only-of-type {\n",
       "        vertical-align: middle;\n",
       "    }\n",
       "\n",
       "    .dataframe tbody tr th {\n",
       "        vertical-align: top;\n",
       "    }\n",
       "\n",
       "    .dataframe thead th {\n",
       "        text-align: right;\n",
       "    }\n",
       "</style>\n",
       "<table border=\"1\" class=\"dataframe\">\n",
       "  <thead>\n",
       "    <tr style=\"text-align: right;\">\n",
       "      <th></th>\n",
       "      <th>Restaurant_Name</th>\n",
       "      <th>Web_Link</th>\n",
       "      <th>Locality</th>\n",
       "      <th>Ratings_out_of_5</th>\n",
       "      <th>Cuisines</th>\n",
       "      <th>Charges_for_two</th>\n",
       "      <th>alcohol</th>\n",
       "      <th>dance</th>\n",
       "      <th>veg</th>\n",
       "      <th>pet</th>\n",
       "      <th>music</th>\n",
       "      <th>valet</th>\n",
       "      <th>buffet</th>\n",
       "      <th>vegan</th>\n",
       "      <th>rooftop</th>\n",
       "      <th>sugarfree</th>\n",
       "      <th>takeawayonly</th>\n",
       "      <th>Locality_duplicate</th>\n",
       "    </tr>\n",
       "  </thead>\n",
       "  <tbody>\n",
       "    <tr>\n",
       "      <th>0</th>\n",
       "      <td>AB's - Absolute Barbecues</td>\n",
       "      <td>https://www.zomato.com/pune/abs-absolute-barbe...</td>\n",
       "      <td>Hinjawadi</td>\n",
       "      <td>4.9</td>\n",
       "      <td>Continental, North Indian, Chinese</td>\n",
       "      <td>1400.0</td>\n",
       "      <td>0</td>\n",
       "      <td>0</td>\n",
       "      <td>0</td>\n",
       "      <td>0</td>\n",
       "      <td>0</td>\n",
       "      <td>1</td>\n",
       "      <td>1</td>\n",
       "      <td>1</td>\n",
       "      <td>0</td>\n",
       "      <td>1</td>\n",
       "      <td>0</td>\n",
       "      <td>Hinjawadi</td>\n",
       "    </tr>\n",
       "    <tr>\n",
       "      <th>1</th>\n",
       "      <td>Cafe Co2 Resto Lounge</td>\n",
       "      <td>https://www.zomato.com/pune/cafe-co2-resto-lou...</td>\n",
       "      <td>Bhugaon</td>\n",
       "      <td>4.6</td>\n",
       "      <td>North Indian, Chinese, Continental, Kebab, Sea...</td>\n",
       "      <td>1500.0</td>\n",
       "      <td>0</td>\n",
       "      <td>1</td>\n",
       "      <td>0</td>\n",
       "      <td>0</td>\n",
       "      <td>1</td>\n",
       "      <td>0</td>\n",
       "      <td>0</td>\n",
       "      <td>1</td>\n",
       "      <td>0</td>\n",
       "      <td>1</td>\n",
       "      <td>0</td>\n",
       "      <td>Bhugaon</td>\n",
       "    </tr>\n",
       "    <tr>\n",
       "      <th>2</th>\n",
       "      <td>Paasha - JW Marriott Pune</td>\n",
       "      <td>https://www.zomato.com/pune/paasha-jw-marriott...</td>\n",
       "      <td>Senapati Bapat Road</td>\n",
       "      <td>4.6</td>\n",
       "      <td>North Indian, Kebab, Biryani</td>\n",
       "      <td>2500.0</td>\n",
       "      <td>0</td>\n",
       "      <td>0</td>\n",
       "      <td>0</td>\n",
       "      <td>0</td>\n",
       "      <td>0</td>\n",
       "      <td>1</td>\n",
       "      <td>0</td>\n",
       "      <td>1</td>\n",
       "      <td>1</td>\n",
       "      <td>1</td>\n",
       "      <td>0</td>\n",
       "      <td>Senapati Bapat Road</td>\n",
       "    </tr>\n",
       "    <tr>\n",
       "      <th>3</th>\n",
       "      <td>I Amsterdam</td>\n",
       "      <td>https://www.zomato.com/pune/i-amsterdam-hinjawadi</td>\n",
       "      <td>Hinjawadi</td>\n",
       "      <td>4.3</td>\n",
       "      <td>Asian, European, Modern Indian, Italian</td>\n",
       "      <td>1400.0</td>\n",
       "      <td>0</td>\n",
       "      <td>1</td>\n",
       "      <td>0</td>\n",
       "      <td>0</td>\n",
       "      <td>1</td>\n",
       "      <td>0</td>\n",
       "      <td>0</td>\n",
       "      <td>1</td>\n",
       "      <td>0</td>\n",
       "      <td>1</td>\n",
       "      <td>0</td>\n",
       "      <td>Hinjawadi</td>\n",
       "    </tr>\n",
       "    <tr>\n",
       "      <th>4</th>\n",
       "      <td>FC Road Social</td>\n",
       "      <td>https://www.zomato.com/pune/fc-road-social-shi...</td>\n",
       "      <td>Shivaji Nagar</td>\n",
       "      <td>4.5</td>\n",
       "      <td>North Indian, Chinese, Biryani, American, Cont...</td>\n",
       "      <td>1500.0</td>\n",
       "      <td>0</td>\n",
       "      <td>0</td>\n",
       "      <td>0</td>\n",
       "      <td>0</td>\n",
       "      <td>1</td>\n",
       "      <td>0</td>\n",
       "      <td>0</td>\n",
       "      <td>1</td>\n",
       "      <td>0</td>\n",
       "      <td>1</td>\n",
       "      <td>0</td>\n",
       "      <td>Shivaji Nagar</td>\n",
       "    </tr>\n",
       "  </tbody>\n",
       "</table>\n",
       "</div>"
      ],
      "text/plain": [
       "             Restaurant_Name  \\\n",
       "0  AB's - Absolute Barbecues   \n",
       "1      Cafe Co2 Resto Lounge   \n",
       "2  Paasha - JW Marriott Pune   \n",
       "3                I Amsterdam   \n",
       "4             FC Road Social   \n",
       "\n",
       "                                            Web_Link             Locality  \\\n",
       "0  https://www.zomato.com/pune/abs-absolute-barbe...            Hinjawadi   \n",
       "1  https://www.zomato.com/pune/cafe-co2-resto-lou...              Bhugaon   \n",
       "2  https://www.zomato.com/pune/paasha-jw-marriott...  Senapati Bapat Road   \n",
       "3  https://www.zomato.com/pune/i-amsterdam-hinjawadi            Hinjawadi   \n",
       "4  https://www.zomato.com/pune/fc-road-social-shi...        Shivaji Nagar   \n",
       "\n",
       "   Ratings_out_of_5                                           Cuisines  \\\n",
       "0               4.9                 Continental, North Indian, Chinese   \n",
       "1               4.6  North Indian, Chinese, Continental, Kebab, Sea...   \n",
       "2               4.6                       North Indian, Kebab, Biryani   \n",
       "3               4.3            Asian, European, Modern Indian, Italian   \n",
       "4               4.5  North Indian, Chinese, Biryani, American, Cont...   \n",
       "\n",
       "   Charges_for_two  alcohol  dance  veg  pet  music  valet  buffet  vegan  \\\n",
       "0           1400.0        0      0    0    0      0      1       1      1   \n",
       "1           1500.0        0      1    0    0      1      0       0      1   \n",
       "2           2500.0        0      0    0    0      0      1       0      1   \n",
       "3           1400.0        0      1    0    0      1      0       0      1   \n",
       "4           1500.0        0      0    0    0      1      0       0      1   \n",
       "\n",
       "   rooftop  sugarfree  takeawayonly   Locality_duplicate  \n",
       "0        0          1             0            Hinjawadi  \n",
       "1        0          1             0              Bhugaon  \n",
       "2        1          1             0  Senapati Bapat Road  \n",
       "3        0          1             0            Hinjawadi  \n",
       "4        0          1             0        Shivaji Nagar  "
      ]
     },
     "execution_count": 23,
     "metadata": {},
     "output_type": "execute_result"
    }
   ],
   "source": [
    "hotel_df=pd.read_csv(\"Hotel Prediction Data.csv\")\n",
    "hotel_df.head()"
   ]
  },
  {
   "cell_type": "code",
   "execution_count": 24,
   "id": "e77379ec",
   "metadata": {},
   "outputs": [
    {
     "data": {
      "text/plain": [
       "(12189, 18)"
      ]
     },
     "execution_count": 24,
     "metadata": {},
     "output_type": "execute_result"
    }
   ],
   "source": [
    "# Total No of Rows and Columns in our Dataset\n",
    "hotel_df.shape"
   ]
  },
  {
   "cell_type": "markdown",
   "id": "ac1dd94b",
   "metadata": {},
   "source": [
    "# Data Cleaning"
   ]
  },
  {
   "cell_type": "code",
   "execution_count": 25,
   "id": "d8293f30",
   "metadata": {},
   "outputs": [
    {
     "data": {
      "text/plain": [
       "Restaurant_Name          0\n",
       "Web_Link                 0\n",
       "Locality                 0\n",
       "Ratings_out_of_5         0\n",
       "Cuisines                 0\n",
       "Charges_for_two       2117\n",
       "alcohol                  0\n",
       "dance                    0\n",
       "veg                      0\n",
       "pet                      0\n",
       "music                    0\n",
       "valet                    0\n",
       "buffet                   0\n",
       "vegan                    0\n",
       "rooftop                  0\n",
       "sugarfree                0\n",
       "takeawayonly             0\n",
       "Locality_duplicate       0\n",
       "dtype: int64"
      ]
     },
     "execution_count": 25,
     "metadata": {},
     "output_type": "execute_result"
    }
   ],
   "source": [
    "# Total No of Missing Values in Dataset as per each Column\n",
    "hotel_df.isna().sum()"
   ]
  },
  {
   "cell_type": "code",
   "execution_count": 26,
   "id": "a009d343",
   "metadata": {},
   "outputs": [],
   "source": [
    "#Dropping the Rows having NULL Values\n",
    "hotel_df=hotel_df.dropna()"
   ]
  },
  {
   "cell_type": "code",
   "execution_count": 27,
   "id": "36b10f3a",
   "metadata": {},
   "outputs": [
    {
     "data": {
      "text/plain": [
       "Restaurant_Name       0\n",
       "Web_Link              0\n",
       "Locality              0\n",
       "Ratings_out_of_5      0\n",
       "Cuisines              0\n",
       "Charges_for_two       0\n",
       "alcohol               0\n",
       "dance                 0\n",
       "veg                   0\n",
       "pet                   0\n",
       "music                 0\n",
       "valet                 0\n",
       "buffet                0\n",
       "vegan                 0\n",
       "rooftop               0\n",
       "sugarfree             0\n",
       "takeawayonly          0\n",
       "Locality_duplicate    0\n",
       "dtype: int64"
      ]
     },
     "execution_count": 27,
     "metadata": {},
     "output_type": "execute_result"
    }
   ],
   "source": [
    "#Now Total No of NULL Values as per each Column after dropping\n",
    "hotel_df.isna().sum()"
   ]
  },
  {
   "cell_type": "code",
   "execution_count": 28,
   "id": "f6c76912",
   "metadata": {},
   "outputs": [
    {
     "name": "stdout",
     "output_type": "stream",
     "text": [
      "97\n"
     ]
    }
   ],
   "source": [
    "\n",
    "# Get the number of unique Areas of Pune which can be suggested by Model where you can have your Favorite Food\n",
    "num_unique_values = hotel_df['Locality'].nunique()\n",
    "\n",
    "print(num_unique_values)"
   ]
  },
  {
   "cell_type": "code",
   "execution_count": 29,
   "id": "62447750",
   "metadata": {},
   "outputs": [],
   "source": [
    "#TOOL Used to Convert String to Numerical values to feed to Model\n",
    "encoder=LabelEncoder()"
   ]
  },
  {
   "cell_type": "code",
   "execution_count": 30,
   "id": "66c62d28",
   "metadata": {},
   "outputs": [],
   "source": [
    "#  encoders-require-their-input-to-be-uniformly-strings-or-numbers\n",
    "hotel_df['Locality'] = hotel_df[\"Locality\"].astype(str)\n",
    "hotel_df['Locality'] = encoder.fit_transform(hotel_df['Locality'])\n",
    "\n",
    "\n"
   ]
  },
  {
   "cell_type": "code",
   "execution_count": 31,
   "id": "7b2173dd",
   "metadata": {},
   "outputs": [
    {
     "data": {
      "text/html": [
       "<div>\n",
       "<style scoped>\n",
       "    .dataframe tbody tr th:only-of-type {\n",
       "        vertical-align: middle;\n",
       "    }\n",
       "\n",
       "    .dataframe tbody tr th {\n",
       "        vertical-align: top;\n",
       "    }\n",
       "\n",
       "    .dataframe thead th {\n",
       "        text-align: right;\n",
       "    }\n",
       "</style>\n",
       "<table border=\"1\" class=\"dataframe\">\n",
       "  <thead>\n",
       "    <tr style=\"text-align: right;\">\n",
       "      <th></th>\n",
       "      <th>Restaurant_Name</th>\n",
       "      <th>Web_Link</th>\n",
       "      <th>Locality</th>\n",
       "      <th>Ratings_out_of_5</th>\n",
       "      <th>Cuisines</th>\n",
       "      <th>Charges_for_two</th>\n",
       "      <th>alcohol</th>\n",
       "      <th>dance</th>\n",
       "      <th>veg</th>\n",
       "      <th>pet</th>\n",
       "      <th>music</th>\n",
       "      <th>valet</th>\n",
       "      <th>buffet</th>\n",
       "      <th>vegan</th>\n",
       "      <th>rooftop</th>\n",
       "      <th>sugarfree</th>\n",
       "      <th>takeawayonly</th>\n",
       "      <th>Locality_duplicate</th>\n",
       "    </tr>\n",
       "  </thead>\n",
       "  <tbody>\n",
       "    <tr>\n",
       "      <th>0</th>\n",
       "      <td>AB's - Absolute Barbecues</td>\n",
       "      <td>https://www.zomato.com/pune/abs-absolute-barbe...</td>\n",
       "      <td>31</td>\n",
       "      <td>4.9</td>\n",
       "      <td>Continental, North Indian, Chinese</td>\n",
       "      <td>1400.0</td>\n",
       "      <td>0</td>\n",
       "      <td>0</td>\n",
       "      <td>0</td>\n",
       "      <td>0</td>\n",
       "      <td>0</td>\n",
       "      <td>1</td>\n",
       "      <td>1</td>\n",
       "      <td>1</td>\n",
       "      <td>0</td>\n",
       "      <td>1</td>\n",
       "      <td>0</td>\n",
       "      <td>Hinjawadi</td>\n",
       "    </tr>\n",
       "    <tr>\n",
       "      <th>1</th>\n",
       "      <td>Cafe Co2 Resto Lounge</td>\n",
       "      <td>https://www.zomato.com/pune/cafe-co2-resto-lou...</td>\n",
       "      <td>7</td>\n",
       "      <td>4.6</td>\n",
       "      <td>North Indian, Chinese, Continental, Kebab, Sea...</td>\n",
       "      <td>1500.0</td>\n",
       "      <td>0</td>\n",
       "      <td>1</td>\n",
       "      <td>0</td>\n",
       "      <td>0</td>\n",
       "      <td>1</td>\n",
       "      <td>0</td>\n",
       "      <td>0</td>\n",
       "      <td>1</td>\n",
       "      <td>0</td>\n",
       "      <td>1</td>\n",
       "      <td>0</td>\n",
       "      <td>Bhugaon</td>\n",
       "    </tr>\n",
       "    <tr>\n",
       "      <th>2</th>\n",
       "      <td>Paasha - JW Marriott Pune</td>\n",
       "      <td>https://www.zomato.com/pune/paasha-jw-marriott...</td>\n",
       "      <td>77</td>\n",
       "      <td>4.6</td>\n",
       "      <td>North Indian, Kebab, Biryani</td>\n",
       "      <td>2500.0</td>\n",
       "      <td>0</td>\n",
       "      <td>0</td>\n",
       "      <td>0</td>\n",
       "      <td>0</td>\n",
       "      <td>0</td>\n",
       "      <td>1</td>\n",
       "      <td>0</td>\n",
       "      <td>1</td>\n",
       "      <td>1</td>\n",
       "      <td>1</td>\n",
       "      <td>0</td>\n",
       "      <td>Senapati Bapat Road</td>\n",
       "    </tr>\n",
       "    <tr>\n",
       "      <th>3</th>\n",
       "      <td>I Amsterdam</td>\n",
       "      <td>https://www.zomato.com/pune/i-amsterdam-hinjawadi</td>\n",
       "      <td>31</td>\n",
       "      <td>4.3</td>\n",
       "      <td>Asian, European, Modern Indian, Italian</td>\n",
       "      <td>1400.0</td>\n",
       "      <td>0</td>\n",
       "      <td>1</td>\n",
       "      <td>0</td>\n",
       "      <td>0</td>\n",
       "      <td>1</td>\n",
       "      <td>0</td>\n",
       "      <td>0</td>\n",
       "      <td>1</td>\n",
       "      <td>0</td>\n",
       "      <td>1</td>\n",
       "      <td>0</td>\n",
       "      <td>Hinjawadi</td>\n",
       "    </tr>\n",
       "    <tr>\n",
       "      <th>4</th>\n",
       "      <td>FC Road Social</td>\n",
       "      <td>https://www.zomato.com/pune/fc-road-social-shi...</td>\n",
       "      <td>79</td>\n",
       "      <td>4.5</td>\n",
       "      <td>North Indian, Chinese, Biryani, American, Cont...</td>\n",
       "      <td>1500.0</td>\n",
       "      <td>0</td>\n",
       "      <td>0</td>\n",
       "      <td>0</td>\n",
       "      <td>0</td>\n",
       "      <td>1</td>\n",
       "      <td>0</td>\n",
       "      <td>0</td>\n",
       "      <td>1</td>\n",
       "      <td>0</td>\n",
       "      <td>1</td>\n",
       "      <td>0</td>\n",
       "      <td>Shivaji Nagar</td>\n",
       "    </tr>\n",
       "  </tbody>\n",
       "</table>\n",
       "</div>"
      ],
      "text/plain": [
       "             Restaurant_Name  \\\n",
       "0  AB's - Absolute Barbecues   \n",
       "1      Cafe Co2 Resto Lounge   \n",
       "2  Paasha - JW Marriott Pune   \n",
       "3                I Amsterdam   \n",
       "4             FC Road Social   \n",
       "\n",
       "                                            Web_Link  Locality  \\\n",
       "0  https://www.zomato.com/pune/abs-absolute-barbe...        31   \n",
       "1  https://www.zomato.com/pune/cafe-co2-resto-lou...         7   \n",
       "2  https://www.zomato.com/pune/paasha-jw-marriott...        77   \n",
       "3  https://www.zomato.com/pune/i-amsterdam-hinjawadi        31   \n",
       "4  https://www.zomato.com/pune/fc-road-social-shi...        79   \n",
       "\n",
       "   Ratings_out_of_5                                           Cuisines  \\\n",
       "0               4.9                 Continental, North Indian, Chinese   \n",
       "1               4.6  North Indian, Chinese, Continental, Kebab, Sea...   \n",
       "2               4.6                       North Indian, Kebab, Biryani   \n",
       "3               4.3            Asian, European, Modern Indian, Italian   \n",
       "4               4.5  North Indian, Chinese, Biryani, American, Cont...   \n",
       "\n",
       "   Charges_for_two  alcohol  dance  veg  pet  music  valet  buffet  vegan  \\\n",
       "0           1400.0        0      0    0    0      0      1       1      1   \n",
       "1           1500.0        0      1    0    0      1      0       0      1   \n",
       "2           2500.0        0      0    0    0      0      1       0      1   \n",
       "3           1400.0        0      1    0    0      1      0       0      1   \n",
       "4           1500.0        0      0    0    0      1      0       0      1   \n",
       "\n",
       "   rooftop  sugarfree  takeawayonly   Locality_duplicate  \n",
       "0        0          1             0            Hinjawadi  \n",
       "1        0          1             0              Bhugaon  \n",
       "2        1          1             0  Senapati Bapat Road  \n",
       "3        0          1             0            Hinjawadi  \n",
       "4        0          1             0        Shivaji Nagar  "
      ]
     },
     "execution_count": 31,
     "metadata": {},
     "output_type": "execute_result"
    }
   ],
   "source": [
    "#Printing First 10 Rows of our Dataset to have an idea about it\n",
    "hotel_df.head()"
   ]
  },
  {
   "cell_type": "code",
   "execution_count": 32,
   "id": "7a0f45b8",
   "metadata": {},
   "outputs": [],
   "source": [
    "#Classified into what will be Inputs and Outputs for our Model\n",
    "X=hotel_df.drop([\"Restaurant_Name\",\"Web_Link\",\"Cuisines\",\"Locality\",\"Locality_duplicate\"],axis=1)\n",
    "y=hotel_df[\"Locality\"]"
   ]
  },
  {
   "cell_type": "code",
   "execution_count": 33,
   "id": "86cb08b1",
   "metadata": {},
   "outputs": [],
   "source": [
    "#To specify which Model used \n",
    "'''Models tried \n",
    "1)KNeighborsClassifier\n",
    "2)MultinomialNB\n",
    "3)RandomForestClassifier\n",
    "4)SVC\n",
    "5)GaussianNB\n",
    "6)LogisticRegression\n",
    "'''\n",
    "model=RandomForestClassifier()"
   ]
  },
  {
   "cell_type": "code",
   "execution_count": 34,
   "id": "47fb719f",
   "metadata": {},
   "outputs": [],
   "source": [
    "#Spliting into training and Testing Data\n",
    "X_train,X_test,y_train,y_test=train_test_split(X,y,test_size=0.0001)"
   ]
  },
  {
   "cell_type": "code",
   "execution_count": 35,
   "id": "480b7d4c",
   "metadata": {},
   "outputs": [
    {
     "data": {
      "text/html": [
       "<style>#sk-container-id-2 {color: black;background-color: white;}#sk-container-id-2 pre{padding: 0;}#sk-container-id-2 div.sk-toggleable {background-color: white;}#sk-container-id-2 label.sk-toggleable__label {cursor: pointer;display: block;width: 100%;margin-bottom: 0;padding: 0.3em;box-sizing: border-box;text-align: center;}#sk-container-id-2 label.sk-toggleable__label-arrow:before {content: \"▸\";float: left;margin-right: 0.25em;color: #696969;}#sk-container-id-2 label.sk-toggleable__label-arrow:hover:before {color: black;}#sk-container-id-2 div.sk-estimator:hover label.sk-toggleable__label-arrow:before {color: black;}#sk-container-id-2 div.sk-toggleable__content {max-height: 0;max-width: 0;overflow: hidden;text-align: left;background-color: #f0f8ff;}#sk-container-id-2 div.sk-toggleable__content pre {margin: 0.2em;color: black;border-radius: 0.25em;background-color: #f0f8ff;}#sk-container-id-2 input.sk-toggleable__control:checked~div.sk-toggleable__content {max-height: 200px;max-width: 100%;overflow: auto;}#sk-container-id-2 input.sk-toggleable__control:checked~label.sk-toggleable__label-arrow:before {content: \"▾\";}#sk-container-id-2 div.sk-estimator input.sk-toggleable__control:checked~label.sk-toggleable__label {background-color: #d4ebff;}#sk-container-id-2 div.sk-label input.sk-toggleable__control:checked~label.sk-toggleable__label {background-color: #d4ebff;}#sk-container-id-2 input.sk-hidden--visually {border: 0;clip: rect(1px 1px 1px 1px);clip: rect(1px, 1px, 1px, 1px);height: 1px;margin: -1px;overflow: hidden;padding: 0;position: absolute;width: 1px;}#sk-container-id-2 div.sk-estimator {font-family: monospace;background-color: #f0f8ff;border: 1px dotted black;border-radius: 0.25em;box-sizing: border-box;margin-bottom: 0.5em;}#sk-container-id-2 div.sk-estimator:hover {background-color: #d4ebff;}#sk-container-id-2 div.sk-parallel-item::after {content: \"\";width: 100%;border-bottom: 1px solid gray;flex-grow: 1;}#sk-container-id-2 div.sk-label:hover label.sk-toggleable__label {background-color: #d4ebff;}#sk-container-id-2 div.sk-serial::before {content: \"\";position: absolute;border-left: 1px solid gray;box-sizing: border-box;top: 0;bottom: 0;left: 50%;z-index: 0;}#sk-container-id-2 div.sk-serial {display: flex;flex-direction: column;align-items: center;background-color: white;padding-right: 0.2em;padding-left: 0.2em;position: relative;}#sk-container-id-2 div.sk-item {position: relative;z-index: 1;}#sk-container-id-2 div.sk-parallel {display: flex;align-items: stretch;justify-content: center;background-color: white;position: relative;}#sk-container-id-2 div.sk-item::before, #sk-container-id-2 div.sk-parallel-item::before {content: \"\";position: absolute;border-left: 1px solid gray;box-sizing: border-box;top: 0;bottom: 0;left: 50%;z-index: -1;}#sk-container-id-2 div.sk-parallel-item {display: flex;flex-direction: column;z-index: 1;position: relative;background-color: white;}#sk-container-id-2 div.sk-parallel-item:first-child::after {align-self: flex-end;width: 50%;}#sk-container-id-2 div.sk-parallel-item:last-child::after {align-self: flex-start;width: 50%;}#sk-container-id-2 div.sk-parallel-item:only-child::after {width: 0;}#sk-container-id-2 div.sk-dashed-wrapped {border: 1px dashed gray;margin: 0 0.4em 0.5em 0.4em;box-sizing: border-box;padding-bottom: 0.4em;background-color: white;}#sk-container-id-2 div.sk-label label {font-family: monospace;font-weight: bold;display: inline-block;line-height: 1.2em;}#sk-container-id-2 div.sk-label-container {text-align: center;}#sk-container-id-2 div.sk-container {/* jupyter's `normalize.less` sets `[hidden] { display: none; }` but bootstrap.min.css set `[hidden] { display: none !important; }` so we also need the `!important` here to be able to override the default hidden behavior on the sphinx rendered scikit-learn.org. See: https://github.com/scikit-learn/scikit-learn/issues/21755 */display: inline-block !important;position: relative;}#sk-container-id-2 div.sk-text-repr-fallback {display: none;}</style><div id=\"sk-container-id-2\" class=\"sk-top-container\"><div class=\"sk-text-repr-fallback\"><pre>RandomForestClassifier()</pre><b>In a Jupyter environment, please rerun this cell to show the HTML representation or trust the notebook. <br />On GitHub, the HTML representation is unable to render, please try loading this page with nbviewer.org.</b></div><div class=\"sk-container\" hidden><div class=\"sk-item\"><div class=\"sk-estimator sk-toggleable\"><input class=\"sk-toggleable__control sk-hidden--visually\" id=\"sk-estimator-id-2\" type=\"checkbox\" checked><label for=\"sk-estimator-id-2\" class=\"sk-toggleable__label sk-toggleable__label-arrow\">RandomForestClassifier</label><div class=\"sk-toggleable__content\"><pre>RandomForestClassifier()</pre></div></div></div></div></div>"
      ],
      "text/plain": [
       "RandomForestClassifier()"
      ]
     },
     "execution_count": 35,
     "metadata": {},
     "output_type": "execute_result"
    }
   ],
   "source": [
    "model.fit(X_train,y_train)"
   ]
  },
  {
   "cell_type": "code",
   "execution_count": 36,
   "id": "707e565f",
   "metadata": {},
   "outputs": [
    {
     "name": "stdout",
     "output_type": "stream",
     "text": [
      "[31]\n"
     ]
    }
   ],
   "source": [
    "input_data=(4,1400,0,1,0,0,1,0,0,1,0,1,0)\n",
    "#Changing the input_data to numpy array \n",
    "input_data_as_numpy_array=np.asarray(input_data)\n",
    "\n",
    "#reshape the np array as we are predicting for one instance and model trained for many rows\n",
    "input_data_reshaped=input_data_as_numpy_array.reshape(1,-1)\n",
    "\n",
    "prediction=model.predict(input_data_reshaped)\n",
    "print(prediction)\n"
   ]
  },
  {
   "cell_type": "code",
   "execution_count": 37,
   "id": "36d5efed",
   "metadata": {},
   "outputs": [
    {
     "data": {
      "text/plain": [
       "31"
      ]
     },
     "execution_count": 37,
     "metadata": {},
     "output_type": "execute_result"
    }
   ],
   "source": [
    "number=prediction[0]\n",
    "number"
   ]
  },
  {
   "cell_type": "code",
   "execution_count": 38,
   "id": "4332577b",
   "metadata": {},
   "outputs": [
    {
     "data": {
      "text/plain": [
       "0"
      ]
     },
     "execution_count": 38,
     "metadata": {},
     "output_type": "execute_result"
    }
   ],
   "source": [
    "# Find the index of the number in the desired column\n",
    "index = hotel_df[hotel_df['Locality'] == number].index\n",
    "new_index=index[0]\n",
    "new_index"
   ]
  },
  {
   "cell_type": "code",
   "execution_count": 39,
   "id": "ec745eed",
   "metadata": {},
   "outputs": [],
   "source": [
    "hotel_df_2=pd.read_csv(\"Hotel Prediction Data.csv\")"
   ]
  },
  {
   "cell_type": "code",
   "execution_count": 40,
   "id": "c6a0dad6",
   "metadata": {},
   "outputs": [
    {
     "name": "stdout",
     "output_type": "stream",
     "text": [
      "Best Place you can Visit is :  Hinjawadi\n"
     ]
    }
   ],
   "source": [
    "#Printing Most Suited Area According to your Preference\n",
    "name = hotel_df_2.loc[new_index,\"Locality\"]\n",
    "print(\"Best Place you can Visit is : \",name)"
   ]
  },
  {
   "cell_type": "code",
   "execution_count": 41,
   "id": "9efb806c",
   "metadata": {},
   "outputs": [
    {
     "name": "stdout",
     "output_type": "stream",
     "text": [
      "Please Enter Minimum Rating Restaurants you want in that Area: 4\n",
      "Please Enter Budget for Two you prefer : 2000\n",
      "Do you need Alcohol option : 0\n",
      "Would you like to have Dance Area : 1\n",
      "Do you need Pure Veg Restaurents : 1\n",
      "Do you have pets with you   : 0\n",
      "Would you prefer a restaurant with outdoor seating or an indoor seating? : 1\n",
      "Would you prefer to have Valet Parking or not needed : 1\n",
      "Do you wish to have Buffet System : 1\n",
      "Are you in need of seperate Family Section :  1\n",
      "Do you love Rooftop Restaurants : 1\n",
      "Do you need option of North Indian or Punjabi food: 1\n",
      "Would you prefer Have Mocktails : 0\n",
      "***************************************\n",
      "***************************************\n",
      "THANK YOU FOR YOUR INPUT !!!\n",
      "\n",
      "Best Place you can Visit is :  Hinjawadi\n"
     ]
    }
   ],
   "source": [
    "#Making it  User friendly\n",
    "l1=[]\n",
    "input_rating=input(\"Please Enter Minimum Rating Restaurants you want in that Area: \")\n",
    "l1.append(input_rating)\n",
    "input_cost=input(\"Please Enter Budget for Two you prefer : \")\n",
    "l1.append(input_cost)\n",
    "input_alcohol=input(\"Do you need Alcohol option : \")\n",
    "l1.append(input_alcohol)\n",
    "input_dance=input(\"Would you like to have Dance Area : \")\n",
    "l1.append(input_dance)\n",
    "input_veg=input(\"Do you need Pure Veg Restaurents : \")\n",
    "l1.append(input_veg)\n",
    "input_pet=input(\"Do you have pets with you   : \")\n",
    "l1.append(input_pet)\n",
    "input_music=input(\"Would you prefer a restaurant with outdoor seating or an indoor seating? : \")\n",
    "l1.append(input_music)\n",
    "input_valet=input(\"Would you prefer to have Valet Parking or not needed : \")\n",
    "l1.append(input_valet)\n",
    "input_buffet=input(\"Do you wish to have Buffet System : \")\n",
    "l1.append(input_buffet)\n",
    "input_vegan=input(\"Are you in need of seperate Family Section :  \")\n",
    "l1.append(input_vegan)\n",
    "input_rooftop=input(\"Do you love Rooftop Restaurants : \")\n",
    "l1.append(input_rooftop)\n",
    "input_sugarfree=input(\"Do you need option of North Indian or Punjabi food: \")\n",
    "l1.append(input_sugarfree)\n",
    "input_takeonly=input(\"Would you prefer Have Mocktails : \")\n",
    "l1.append(input_takeonly)\n",
    "l1\n",
    "# Convert list to tuple\n",
    "my_tuple = tuple(l1)\n",
    "my_tuple\n",
    "#Changing the input_data to numpy array \n",
    "input_data_as_numpy_array=np.asarray(my_tuple)\n",
    "input_data_as_numpy_array\n",
    "#reshape the np array as we are predicting for one instance and model trained for many rows\n",
    "input_data_reshaped=input_data_as_numpy_array.reshape(1,-1)\n",
    "\n",
    "prediction=model.predict(input_data_reshaped)\n",
    "\n",
    "#Take the Predicted Encoded Value\n",
    "number=prediction[0]\n",
    "# Find the index of the number in the desired column\n",
    "index = hotel_df[hotel_df['Locality'] == number].index\n",
    "new_index=index[0]\n",
    "#Locate the Locality at the particular index\n",
    "name = hotel_df_2.loc[new_index,\"Locality\"]\n",
    "print(\"***************************************\")\n",
    "print(\"***************************************\")\n",
    "print(\"THANK YOU FOR YOUR INPUT !!!\")\n",
    "print()\n",
    "print(\"Best Place you can Visit is : \",name)"
   ]
  },
  {
   "cell_type": "code",
   "execution_count": null,
   "id": "e04b643c",
   "metadata": {},
   "outputs": [],
   "source": []
  }
 ],
 "metadata": {
  "kernelspec": {
   "display_name": "Python 3 (ipykernel)",
   "language": "python",
   "name": "python3"
  },
  "language_info": {
   "codemirror_mode": {
    "name": "ipython",
    "version": 3
   },
   "file_extension": ".py",
   "mimetype": "text/x-python",
   "name": "python",
   "nbconvert_exporter": "python",
   "pygments_lexer": "ipython3",
   "version": "3.10.4"
  }
 },
 "nbformat": 4,
 "nbformat_minor": 5
}
