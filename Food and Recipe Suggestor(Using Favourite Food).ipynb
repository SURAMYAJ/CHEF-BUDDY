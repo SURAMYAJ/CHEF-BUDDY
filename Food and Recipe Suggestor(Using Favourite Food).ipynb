{
 "cells": [
  {
   "cell_type": "markdown",
   "id": "a6b51a5e",
   "metadata": {},
   "source": [
    "# Importing The Required Libraries"
   ]
  },
  {
   "cell_type": "code",
   "execution_count": 1,
   "id": "9e617e1d",
   "metadata": {},
   "outputs": [],
   "source": [
    "import numpy as np\n",
    "import pandas as pd\n",
    "import matplotlib.pyplot as plt\n",
    "from nltk.corpus import stopwords\n",
    "import re\n",
    "import difflib\n",
    "#If spelling mistake happens by user while entering food name then it finds closest match of food given by user from our data\n",
    "from nltk.stem.porter import PorterStemmer  #this gives rootword to a particular word\n",
    "from sklearn.feature_extraction.text import TfidfVectorizer\n",
    "from sklearn.metrics.pairwise import cosine_similarity\n",
    "#Gives similarity score for every movie as compared to any food item\n",
    "\n",
    "import warnings\n",
    "\n",
    "# Disable warning display\n",
    "warnings.filterwarnings('ignore')"
   ]
  },
  {
   "cell_type": "code",
   "execution_count": 2,
   "id": "6030342e",
   "metadata": {},
   "outputs": [
    {
     "name": "stderr",
     "output_type": "stream",
     "text": [
      "[nltk_data] Error loading stopwords: <urlopen error [WinError 10060] A\n",
      "[nltk_data]     connection attempt failed because the connected party\n",
      "[nltk_data]     did not properly respond after a period of time, or\n",
      "[nltk_data]     established connection failed because connected host\n",
      "[nltk_data]     has failed to respond>\n"
     ]
    },
    {
     "data": {
      "text/plain": [
       "False"
      ]
     },
     "execution_count": 2,
     "metadata": {},
     "output_type": "execute_result"
    }
   ],
   "source": [
    "import nltk\n",
    "nltk.download('stopwords')"
   ]
  },
  {
   "cell_type": "markdown",
   "id": "3a038c75",
   "metadata": {},
   "source": [
    "# Data Collection and Preprocessing"
   ]
  },
  {
   "cell_type": "code",
   "execution_count": 3,
   "id": "48bf508a",
   "metadata": {},
   "outputs": [],
   "source": [
    "food_data=pd.read_csv(\"Cleaned_Food.csv\")\n"
   ]
  },
  {
   "cell_type": "code",
   "execution_count": 4,
   "id": "32d9c810",
   "metadata": {},
   "outputs": [
    {
     "data": {
      "text/html": [
       "<div>\n",
       "<style scoped>\n",
       "    .dataframe tbody tr th:only-of-type {\n",
       "        vertical-align: middle;\n",
       "    }\n",
       "\n",
       "    .dataframe tbody tr th {\n",
       "        vertical-align: top;\n",
       "    }\n",
       "\n",
       "    .dataframe thead th {\n",
       "        text-align: right;\n",
       "    }\n",
       "</style>\n",
       "<table border=\"1\" class=\"dataframe\">\n",
       "  <thead>\n",
       "    <tr style=\"text-align: right;\">\n",
       "      <th></th>\n",
       "      <th>recipe_title</th>\n",
       "      <th>url</th>\n",
       "      <th>record_health</th>\n",
       "      <th>vote_count</th>\n",
       "      <th>rating</th>\n",
       "      <th>description</th>\n",
       "      <th>cuisine</th>\n",
       "      <th>course</th>\n",
       "      <th>diet</th>\n",
       "      <th>prep_time</th>\n",
       "      <th>...</th>\n",
       "      <th>instructions</th>\n",
       "      <th>author</th>\n",
       "      <th>tags</th>\n",
       "      <th>category</th>\n",
       "      <th>Unnamed: 16</th>\n",
       "      <th>Unnamed: 17</th>\n",
       "      <th>Unnamed: 18</th>\n",
       "      <th>Unnamed: 19</th>\n",
       "      <th>Unnamed: 20</th>\n",
       "      <th>index</th>\n",
       "    </tr>\n",
       "  </thead>\n",
       "  <tbody>\n",
       "    <tr>\n",
       "      <th>0</th>\n",
       "      <td>Roasted Peppers And Mushroom Tortilla Pizza Re...</td>\n",
       "      <td>https://www.archanaskitchen.com/roasted-pepper...</td>\n",
       "      <td>good</td>\n",
       "      <td>434</td>\n",
       "      <td>4.958525</td>\n",
       "      <td>is a quicker version pizza to satisfy your cr...</td>\n",
       "      <td>Mexican</td>\n",
       "      <td>Dinner</td>\n",
       "      <td>Vegetarian</td>\n",
       "      <td>15 M</td>\n",
       "      <td>...</td>\n",
       "      <td>To begin making the Roasted Peppers And Mushro...</td>\n",
       "      <td>Divya Shivaraman</td>\n",
       "      <td>Party Food Recipes|Tea Party Recipes|Mushroom ...</td>\n",
       "      <td>Pizza Recipes</td>\n",
       "      <td>NaN</td>\n",
       "      <td>NaN</td>\n",
       "      <td>NaN</td>\n",
       "      <td>NaN</td>\n",
       "      <td>NaN</td>\n",
       "      <td>0</td>\n",
       "    </tr>\n",
       "    <tr>\n",
       "      <th>1</th>\n",
       "      <td>Thakkali Gotsu Recipe</td>\n",
       "      <td>https://www.archanaskitchen.com/tomato-gotsu-r...</td>\n",
       "      <td>good</td>\n",
       "      <td>3423</td>\n",
       "      <td>4.932223</td>\n",
       "      <td>also known as the   is a quick and easy to ma...</td>\n",
       "      <td>South Indian Recipes</td>\n",
       "      <td>Lunch</td>\n",
       "      <td>Vegetarian</td>\n",
       "      <td>10 M</td>\n",
       "      <td>...</td>\n",
       "      <td>To begin making Tomato Gotsu Recipe/ Thakkali ...</td>\n",
       "      <td>Archana Doshi</td>\n",
       "      <td>Vegetarian Recipes|Tomato Recipes|South Indian...</td>\n",
       "      <td>Indian Curry Recipes</td>\n",
       "      <td>NaN</td>\n",
       "      <td>NaN</td>\n",
       "      <td>NaN</td>\n",
       "      <td>NaN</td>\n",
       "      <td>NaN</td>\n",
       "      <td>1</td>\n",
       "    </tr>\n",
       "    <tr>\n",
       "      <th>2</th>\n",
       "      <td>Spicy Grilled Pineapple Salsa Recipe</td>\n",
       "      <td>https://www.archanaskitchen.com/spicy-grilled-...</td>\n",
       "      <td>good</td>\n",
       "      <td>2091</td>\n",
       "      <td>4.945959</td>\n",
       "      <td>Spicy Grilled Pineapple Salsa is a simple reci...</td>\n",
       "      <td>Mexican</td>\n",
       "      <td>Side Dish</td>\n",
       "      <td>Vegetarian</td>\n",
       "      <td>10 M</td>\n",
       "      <td>...</td>\n",
       "      <td>To begin making the Spicy Grilled Pineapple Sa...</td>\n",
       "      <td>Archana's Kitchen</td>\n",
       "      <td>Party Starter &amp; Appetizer Recipes|Pineapple Re...</td>\n",
       "      <td>Mexican Recipes</td>\n",
       "      <td>NaN</td>\n",
       "      <td>NaN</td>\n",
       "      <td>NaN</td>\n",
       "      <td>NaN</td>\n",
       "      <td>NaN</td>\n",
       "      <td>2</td>\n",
       "    </tr>\n",
       "    <tr>\n",
       "      <th>3</th>\n",
       "      <td>Karwar Style Dali Thoy Recipe - Toor dal Curry</td>\n",
       "      <td>https://www.archanaskitchen.com/dali-thoy-reci...</td>\n",
       "      <td>good</td>\n",
       "      <td>990</td>\n",
       "      <td>4.888889</td>\n",
       "      <td>The   is a quintessential of Konkani dish whic...</td>\n",
       "      <td>Coastal Karnataka</td>\n",
       "      <td>Side Dish</td>\n",
       "      <td>High Protein Vegetarian</td>\n",
       "      <td>5 M</td>\n",
       "      <td>...</td>\n",
       "      <td>To prepare Karwar Style Dali Thoy Recipe (Toor...</td>\n",
       "      <td>Jyothi Rajesh</td>\n",
       "      <td>Side Dish Recipes|South Indian Recipes|Indian ...</td>\n",
       "      <td>Indian Curry Recipes</td>\n",
       "      <td>NaN</td>\n",
       "      <td>NaN</td>\n",
       "      <td>NaN</td>\n",
       "      <td>NaN</td>\n",
       "      <td>NaN</td>\n",
       "      <td>3</td>\n",
       "    </tr>\n",
       "    <tr>\n",
       "      <th>4</th>\n",
       "      <td>Rajma Kofta In Milk And Poppy Seed Gravy Recipe</td>\n",
       "      <td>https://www.archanaskitchen.com/rajma-kofta-in...</td>\n",
       "      <td>good</td>\n",
       "      <td>345</td>\n",
       "      <td>4.828986</td>\n",
       "      <td>Koftas are traditional Indian recipes mostly w...</td>\n",
       "      <td>North Indian Recipes</td>\n",
       "      <td>Side Dish</td>\n",
       "      <td>High Protein Vegetarian</td>\n",
       "      <td>20 M</td>\n",
       "      <td>...</td>\n",
       "      <td>To begin making Rajma Kofta In Milk And Poppy ...</td>\n",
       "      <td>RUBY PATHAK</td>\n",
       "      <td>Side Dish Recipes|Indian Lunch Recipes|Office ...</td>\n",
       "      <td>Kofta Recipes</td>\n",
       "      <td>NaN</td>\n",
       "      <td>NaN</td>\n",
       "      <td>NaN</td>\n",
       "      <td>NaN</td>\n",
       "      <td>NaN</td>\n",
       "      <td>4</td>\n",
       "    </tr>\n",
       "  </tbody>\n",
       "</table>\n",
       "<p>5 rows × 22 columns</p>\n",
       "</div>"
      ],
      "text/plain": [
       "                                        recipe_title  \\\n",
       "0  Roasted Peppers And Mushroom Tortilla Pizza Re...   \n",
       "1                             Thakkali Gotsu Recipe    \n",
       "2               Spicy Grilled Pineapple Salsa Recipe   \n",
       "3     Karwar Style Dali Thoy Recipe - Toor dal Curry   \n",
       "4    Rajma Kofta In Milk And Poppy Seed Gravy Recipe   \n",
       "\n",
       "                                                 url record_health  \\\n",
       "0  https://www.archanaskitchen.com/roasted-pepper...          good   \n",
       "1  https://www.archanaskitchen.com/tomato-gotsu-r...          good   \n",
       "2  https://www.archanaskitchen.com/spicy-grilled-...          good   \n",
       "3  https://www.archanaskitchen.com/dali-thoy-reci...          good   \n",
       "4  https://www.archanaskitchen.com/rajma-kofta-in...          good   \n",
       "\n",
       "   vote_count    rating                                        description  \\\n",
       "0         434  4.958525   is a quicker version pizza to satisfy your cr...   \n",
       "1        3423  4.932223   also known as the   is a quick and easy to ma...   \n",
       "2        2091  4.945959  Spicy Grilled Pineapple Salsa is a simple reci...   \n",
       "3         990  4.888889  The   is a quintessential of Konkani dish whic...   \n",
       "4         345  4.828986  Koftas are traditional Indian recipes mostly w...   \n",
       "\n",
       "                cuisine     course                     diet prep_time  ...  \\\n",
       "0               Mexican     Dinner               Vegetarian      15 M  ...   \n",
       "1  South Indian Recipes      Lunch               Vegetarian      10 M  ...   \n",
       "2               Mexican  Side Dish               Vegetarian      10 M  ...   \n",
       "3     Coastal Karnataka  Side Dish  High Protein Vegetarian       5 M  ...   \n",
       "4  North Indian Recipes  Side Dish  High Protein Vegetarian      20 M  ...   \n",
       "\n",
       "                                        instructions             author  \\\n",
       "0  To begin making the Roasted Peppers And Mushro...  Divya Shivaraman    \n",
       "1  To begin making Tomato Gotsu Recipe/ Thakkali ...      Archana Doshi   \n",
       "2  To begin making the Spicy Grilled Pineapple Sa...  Archana's Kitchen   \n",
       "3  To prepare Karwar Style Dali Thoy Recipe (Toor...      Jyothi Rajesh   \n",
       "4  To begin making Rajma Kofta In Milk And Poppy ...        RUBY PATHAK   \n",
       "\n",
       "                                                tags              category  \\\n",
       "0  Party Food Recipes|Tea Party Recipes|Mushroom ...         Pizza Recipes   \n",
       "1  Vegetarian Recipes|Tomato Recipes|South Indian...  Indian Curry Recipes   \n",
       "2  Party Starter & Appetizer Recipes|Pineapple Re...       Mexican Recipes   \n",
       "3  Side Dish Recipes|South Indian Recipes|Indian ...  Indian Curry Recipes   \n",
       "4  Side Dish Recipes|Indian Lunch Recipes|Office ...         Kofta Recipes   \n",
       "\n",
       "  Unnamed: 16 Unnamed: 17  Unnamed: 18  Unnamed: 19  Unnamed: 20  index  \n",
       "0         NaN         NaN          NaN          NaN          NaN      0  \n",
       "1         NaN         NaN          NaN          NaN          NaN      1  \n",
       "2         NaN         NaN          NaN          NaN          NaN      2  \n",
       "3         NaN         NaN          NaN          NaN          NaN      3  \n",
       "4         NaN         NaN          NaN          NaN          NaN      4  \n",
       "\n",
       "[5 rows x 22 columns]"
      ]
     },
     "execution_count": 4,
     "metadata": {},
     "output_type": "execute_result"
    }
   ],
   "source": [
    "#Shows First Five Rows of our Dataset\n",
    "food_data.head()"
   ]
  },
  {
   "cell_type": "code",
   "execution_count": 5,
   "id": "dea139dd",
   "metadata": {},
   "outputs": [
    {
     "data": {
      "text/plain": [
       "(1003, 22)"
      ]
     },
     "execution_count": 5,
     "metadata": {},
     "output_type": "execute_result"
    }
   ],
   "source": [
    "#Shows No of Columns and Rows in our Datasset\n",
    "food_data.shape "
   ]
  },
  {
   "cell_type": "code",
   "execution_count": 6,
   "id": "3a8edefd",
   "metadata": {},
   "outputs": [
    {
     "name": "stdout",
     "output_type": "stream",
     "text": [
      "<class 'pandas.core.frame.DataFrame'>\n",
      "RangeIndex: 1003 entries, 0 to 1002\n",
      "Data columns (total 22 columns):\n",
      " #   Column         Non-Null Count  Dtype  \n",
      "---  ------         --------------  -----  \n",
      " 0   recipe_title   1003 non-null   object \n",
      " 1   url            1003 non-null   object \n",
      " 2   record_health  1003 non-null   object \n",
      " 3   vote_count     1003 non-null   int64  \n",
      " 4   rating         1003 non-null   float64\n",
      " 5   description    1002 non-null   object \n",
      " 6   cuisine        998 non-null    object \n",
      " 7   course         991 non-null    object \n",
      " 8   diet           994 non-null    object \n",
      " 9   prep_time      1002 non-null   object \n",
      " 10  cook_time      1002 non-null   object \n",
      " 11  ingredients    1002 non-null   object \n",
      " 12  instructions   1003 non-null   object \n",
      " 13  author         1003 non-null   object \n",
      " 14  tags           991 non-null    object \n",
      " 15  category       1003 non-null   object \n",
      " 16  Unnamed: 16    0 non-null      float64\n",
      " 17  Unnamed: 17    0 non-null      float64\n",
      " 18  Unnamed: 18    0 non-null      float64\n",
      " 19  Unnamed: 19    0 non-null      float64\n",
      " 20  Unnamed: 20    0 non-null      float64\n",
      " 21  index          1003 non-null   int64  \n",
      "dtypes: float64(6), int64(2), object(14)\n",
      "memory usage: 172.5+ KB\n"
     ]
    }
   ],
   "source": [
    "#Gives Detailed Information about our Dataset\n",
    "food_data.info()"
   ]
  },
  {
   "cell_type": "markdown",
   "id": "b2293eb1",
   "metadata": {},
   "source": [
    "# Data Cleaning"
   ]
  },
  {
   "cell_type": "code",
   "execution_count": 7,
   "id": "dabfcb53",
   "metadata": {},
   "outputs": [],
   "source": [
    "#Remove unwanted sybols\n",
    "food_data.replace({\"ingredients\":{\"(\":\" \",\")\":\" \",\"|\":\" \",\"/\":\" \"} },inplace=True)"
   ]
  },
  {
   "cell_type": "code",
   "execution_count": 8,
   "id": "c9b12cae",
   "metadata": {},
   "outputs": [
    {
     "data": {
      "text/plain": [
       "0    Tortillas|Extra Virgin Olive Oil|Garlic|Mozzar...\n",
       "1    Sesame (Gingelly) Oil|Mustard seeds (Rai/ Kadu...\n",
       "2    Extra Virgin Olive Oil|Pineapple|White onion|R...\n",
       "3    Arhar dal (Split Toor Dal)|Turmeric powder (Ha...\n",
       "4    Rajma (Large Kidney Beans)|Cashew nuts|Sultana...\n",
       "Name: ingredients, dtype: object"
      ]
     },
     "execution_count": 8,
     "metadata": {},
     "output_type": "execute_result"
    }
   ],
   "source": [
    "food_data[\"ingredients\"].head()"
   ]
  },
  {
   "cell_type": "code",
   "execution_count": 9,
   "id": "1f42d1d7",
   "metadata": {},
   "outputs": [
    {
     "name": "stdout",
     "output_type": "stream",
     "text": [
      "['cuisine', 'diet', 'ingredients']\n"
     ]
    }
   ],
   "source": [
    "#selecting relevant features for recommendation\n",
    "selected_features=['cuisine','diet','ingredients']\n",
    "print(selected_features)"
   ]
  },
  {
   "cell_type": "code",
   "execution_count": 10,
   "id": "0bb1f64e",
   "metadata": {},
   "outputs": [],
   "source": [
    "#Replacing Null values with Null String\n",
    "for feature in selected_features:\n",
    "    food_data[feature]=food_data[feature].fillna('')"
   ]
  },
  {
   "cell_type": "code",
   "execution_count": 11,
   "id": "1f31ac71",
   "metadata": {},
   "outputs": [],
   "source": [
    "#Combining all the 5 Selected features\n",
    "combined_features=food_data[\"cuisine\"]+' '+food_data[\"diet\"]+''+food_data[\"ingredients\"]"
   ]
  },
  {
   "cell_type": "markdown",
   "id": "6b3d8535",
   "metadata": {},
   "source": [
    "# Stemming"
   ]
  },
  {
   "cell_type": "code",
   "execution_count": 12,
   "id": "12a253c7",
   "metadata": {},
   "outputs": [],
   "source": [
    "port_stem=PorterStemmer() #Load PortorStemmer function to port_stem variable"
   ]
  },
  {
   "cell_type": "code",
   "execution_count": 13,
   "id": "1dc5dd1e",
   "metadata": {},
   "outputs": [],
   "source": [
    "def stemming(text):\n",
    "  stemmed_text= re.sub('[^a-zA-Z]',' ',text) #Removing Things that are not alphabets like comma,Numbers and all. from text are replaced by space\n",
    "  stemmed_text= stemmed_text.lower() #Convert all new text to Lower Case bcoz can create problem for ML model\n",
    "  stemmed_text= stemmed_text.split() #Splitted and coverted to list \n",
    "  stemmed_text= [port_stem.stem(word) for word in stemmed_text if not word in stopwords.words('english') ] #Stemming the words that are not in stopwords\n",
    "  stemmed_text=' '.join(stemmed_text)\n",
    "  return stemmed_text"
   ]
  },
  {
   "cell_type": "code",
   "execution_count": 14,
   "id": "a7f66831",
   "metadata": {},
   "outputs": [],
   "source": [
    "combined_features=combined_features.apply(stemming)"
   ]
  },
  {
   "cell_type": "code",
   "execution_count": 15,
   "id": "e46eba6a",
   "metadata": {},
   "outputs": [
    {
     "data": {
      "text/plain": [
       "pandas.core.series.Series"
      ]
     },
     "execution_count": 15,
     "metadata": {},
     "output_type": "execute_result"
    }
   ],
   "source": [
    "type(combined_features)"
   ]
  },
  {
   "cell_type": "code",
   "execution_count": 16,
   "id": "ce0880a1",
   "metadata": {},
   "outputs": [
    {
     "data": {
      "text/plain": [
       "dtype('O')"
      ]
     },
     "execution_count": 16,
     "metadata": {},
     "output_type": "execute_result"
    }
   ],
   "source": [
    "combined_features.dtype"
   ]
  },
  {
   "cell_type": "code",
   "execution_count": 17,
   "id": "4632e33d",
   "metadata": {},
   "outputs": [
    {
     "name": "stdout",
     "output_type": "stream",
     "text": [
      "0       mexican vegetariantortilla extra virgin oliv o...\n",
      "1       south indian recip vegetariansesam gingelli oi...\n",
      "2       mexican vegetarianextra virgin oliv oil pineap...\n",
      "3       coastal karnataka high protein vegetarianarhar...\n",
      "4       north indian recip high protein vegetarianrajm...\n",
      "                              ...                        \n",
      "998     south indian recip eggetarianridg gourd turai ...\n",
      "999     continent vegetarianal purpos flour maida bake...\n",
      "1000    north indian recip vegetariancabbag patta gobi...\n",
      "1001    continent sugar free dietmango ripe milk chia ...\n",
      "1002    andhra vegetarianric flour chana dal bengal gr...\n",
      "Length: 1003, dtype: object\n"
     ]
    }
   ],
   "source": [
    "print(combined_features)"
   ]
  },
  {
   "cell_type": "markdown",
   "id": "56d8a988",
   "metadata": {},
   "source": [
    "# Converting Text to Vectors"
   ]
  },
  {
   "cell_type": "code",
   "execution_count": 18,
   "id": "0c645eeb",
   "metadata": {},
   "outputs": [],
   "source": [
    "#Converting Text data to feature vectors We did this bcoz the cosine_similarity can work efficiently on numerical data rather than text data\n",
    "vectorizer=TfidfVectorizer()\n",
    "feature_vectors=vectorizer.fit_transform(combined_features)"
   ]
  },
  {
   "cell_type": "code",
   "execution_count": 19,
   "id": "4e1d600b",
   "metadata": {},
   "outputs": [
    {
     "name": "stdout",
     "output_type": "stream",
     "text": [
      "  (0, 459)\t0.24711891882514242\n",
      "  (0, 92)\t0.2678030395278881\n",
      "  (0, 361)\t0.3874249162209983\n",
      "  (0, 488)\t0.10839490391393175\n",
      "  (0, 102)\t0.18905957308968557\n",
      "  (0, 521)\t0.1384545819590397\n",
      "  (0, 54)\t0.18905957308968557\n",
      "  (0, 310)\t0.11163109762961555\n",
      "  (0, 946)\t0.24114592467523002\n",
      "  (0, 571)\t0.09835834250135848\n",
      "  (0, 120)\t0.20204947930866643\n",
      "  (0, 453)\t0.26115077344836857\n",
      "  (0, 286)\t0.11820034751266494\n",
      "  (0, 485)\t0.08689062753392225\n",
      "  (0, 487)\t0.3377305670750468\n",
      "  (0, 930)\t0.17064724842586756\n",
      "  (0, 227)\t0.172856114225279\n",
      "  (0, 887)\t0.401142327784492\n",
      "  (0, 441)\t0.26438696716405236\n",
      "  (1, 344)\t0.22795061872488737\n",
      "  (1, 591)\t0.07655166265627417\n",
      "  (1, 316)\t0.12804346513094395\n",
      "  (1, 542)\t0.09168163053897689\n",
      "  (1, 685)\t0.12787776220880268\n",
      "  (1, 662)\t0.2617003756831995\n",
      "  :\t:\n",
      "  (1001, 577)\t0.2787511936242154\n",
      "  (1001, 650)\t0.15704398847959739\n",
      "  (1001, 155)\t0.1703750542704551\n",
      "  (1001, 443)\t0.18267912382201865\n",
      "  (1001, 601)\t0.09986526707382096\n",
      "  (1002, 14)\t0.3357498293262418\n",
      "  (1002, 855)\t0.3241149372937925\n",
      "  (1002, 56)\t0.2859087142364832\n",
      "  (1002, 114)\t0.25818692824642087\n",
      "  (1002, 673)\t0.297684450515368\n",
      "  (1002, 605)\t0.24411628754508755\n",
      "  (1002, 240)\t0.16455403981456454\n",
      "  (1002, 304)\t0.23534904864225062\n",
      "  (1002, 129)\t0.19773016781387934\n",
      "  (1002, 171)\t0.3818440315659882\n",
      "  (1002, 591)\t0.0795447304040987\n",
      "  (1002, 316)\t0.1330497935698693\n",
      "  (1002, 542)\t0.1905325196390985\n",
      "  (1002, 685)\t0.13287761188482763\n",
      "  (1002, 398)\t0.10714756255460897\n",
      "  (1002, 169)\t0.17443731425879783\n",
      "  (1002, 601)\t0.23419177942447061\n",
      "  (1002, 488)\t0.12280789709438766\n",
      "  (1002, 310)\t0.12647439921268622\n",
      "  (1002, 571)\t0.11143679977679152\n"
     ]
    }
   ],
   "source": [
    "print(feature_vectors)"
   ]
  },
  {
   "cell_type": "markdown",
   "id": "960a730e",
   "metadata": {},
   "source": [
    "# Cosine Similarity"
   ]
  },
  {
   "cell_type": "code",
   "execution_count": 20,
   "id": "379497c5",
   "metadata": {},
   "outputs": [],
   "source": [
    "#Getting similarity scores using cosine similarity\n",
    "similarity=cosine_similarity(feature_vectors)\n",
    "#For each food it will compare with all food items"
   ]
  },
  {
   "cell_type": "code",
   "execution_count": 28,
   "id": "c8118837",
   "metadata": {},
   "outputs": [
    {
     "data": {
      "text/plain": [
       "(1003, 1003)"
      ]
     },
     "execution_count": 28,
     "metadata": {},
     "output_type": "execute_result"
    }
   ],
   "source": [
    "similarity.shape"
   ]
  },
  {
   "cell_type": "code",
   "execution_count": 29,
   "id": "be8673bb",
   "metadata": {},
   "outputs": [
    {
     "name": "stdout",
     "output_type": "stream",
     "text": [
      "[[1.         0.04908719 0.32387886 ... 0.03275448 0.         0.03839097]\n",
      " [0.04908719 1.         0.06214044 ... 0.2795917  0.0112538  0.15333753]\n",
      " [0.32387886 0.06214044 1.         ... 0.1351963  0.         0.0750676 ]\n",
      " ...\n",
      " [0.03275448 0.2795917  0.1351963  ... 1.         0.02277665 0.22396971]\n",
      " [0.         0.0112538  0.         ... 0.02277665 1.         0.02338762]\n",
      " [0.03839097 0.15333753 0.0750676  ... 0.22396971 0.02338762 1.        ]]\n"
     ]
    }
   ],
   "source": [
    "print(similarity)  #Schezwan Style Chinese Veg Samosa Recipe "
   ]
  },
  {
   "cell_type": "code",
   "execution_count": 30,
   "id": "4af8150d",
   "metadata": {},
   "outputs": [
    {
     "name": "stdout",
     "output_type": "stream",
     "text": [
      "Plz enter your Favourite Food : Panipuri\n"
     ]
    }
   ],
   "source": [
    "#Getting the Food name from the User\n",
    "food_name=input(\"Plz enter your Favourite Food : \")"
   ]
  },
  {
   "cell_type": "code",
   "execution_count": 31,
   "id": "01dacb85",
   "metadata": {},
   "outputs": [],
   "source": [
    "food_name=str(food_name)"
   ]
  },
  {
   "cell_type": "code",
   "execution_count": 32,
   "id": "d5e89511",
   "metadata": {},
   "outputs": [
    {
     "name": "stdout",
     "output_type": "stream",
     "text": [
      "['Roasted Peppers And Mushroom Tortilla Pizza Recipe', 'Thakkali Gotsu Recipe ', 'Spicy Grilled Pineapple Salsa Recipe', 'Karwar Style Dali Thoy Recipe - Toor dal Curry', 'Rajma Kofta In Milk And Poppy Seed Gravy Recipe', 'Barnyard Millet Mushroom Biryani Recipe', 'Mexican Green Sauce Recipe ', 'Karnataka Style Avarekalu Chitranna Recipe', 'Schezwan Style Chinese Veg Samosa Recipe ', 'Pineapple Upside Down Cake Recipe', 'Matar Butter Masala Recipe', 'Cheesy Rice Poppers Recipe', 'Savory Shrimps On Skillet Recipe', 'Goan Sorak Curry Recipe', 'Toffee Banana Recipe ', 'Mango Tomato Bean Salsa Recipe', 'Coorg Style Kumbala Curry Recipe ', 'Kurkuri Bhindi And Onion Masala Recipe', 'Kerala Cherupayar Curry Recipe ', 'Kela Matar ki Sabzi Recipe ', 'Creamy Chicken Pesto Spaghetti Pasta Recipe', 'Hyderabadi Bagare Tamatar', 'Eggplant Rolls Recipe', 'Beans And Carrot Masala Pulav With Black Eyed Beans Recipe', 'Chettinad Kathirikai Chops Recipe ', 'Kodava Pacche Baale Barthad', 'Lebanese Chickpea Falafel Recipe', 'Drumstick Leaves Ragi Roti Recipe ', 'Chettinad Pakora Curry Recipe', 'Eerulli Palya Recipe', 'Karwar NKGSB Style Bharli Vangi Recipe ', 'Cinnamon Welsh Cake Recipe ', 'Polenta Pizza With Vegetables Recipe', 'Eggless Buttermilk Cinnamon Rolls Recipe', 'Vegetarian Sago Dumpling Recipe', 'Mooga Gathi  Recipe', 'Homemade Mole Sauce Recipe', 'Mexican Omelette Recipe with Avocado Salsa ', 'Grilled Tofu Satay Recipe With Peanut Dipping Sauce', 'Spicy Pressure Cooker Mutton Curry Recipe ', 'Mysore Style Avarekalu Rasam Recipe ', 'Roasted Peppers & Cheese Crostini Recipe', 'Goan Kaju Curry Recipe ', 'Chettinad Style Kara Kuzhambu Recipe with Potato and Brinjal', 'Karnataka Style Huggi', 'Udupi Style Ash Gourd Coconut Curry Recipe ', 'Methi Bajra Poori Recipe', 'Moongphali Bhindi Sabzi Recipe ', 'Nargisi Kofta Curry Recipe ', 'Asian Style Tofu in Spicy Orange Sauce Recipe', 'Homemade Kashmiri Garam Masala Recipe', 'Hesarukalu Bele Kosambari Recipe', 'Bendakaya Pulusu Recipe ', 'Peerkangai Thogayal Recipe ', 'Goan Style Mushroom Vindaloo Recipe', 'Dhaba Style Dal Fry Recipe ', 'Goan Mushroom Xacuti Recipe', 'Eggless Whole Wheat Plum Cake Recipe ', ' Basil Avocado Sauce Recipe', 'Crunchy Creamy Coleslaw Recipe', 'Chamadumpa Vepudu Recipe ', 'Mangalore Cucumber Chana Dal Subzi Recipe ', 'Aloo Parwal Sabzi Recipe ', 'Chapor Ghonto Recipe ', 'Delicious Skillet Roasted Fondant Potatoes Recipe', 'Moroccan Chickpeas Stew Recipe ', 'Babru Recipe ', 'Urulai Kizhangu Masiyal Recipe ', 'Niramish Shobji Chapor Jhol ', 'Arabian Chicken Mandi Recipe ', 'Moong Dal Ghughra Recipe', 'Hyderabadi Khadi Masoor Dal Recipe', 'Vanilla Dutch Baby Pancake Recipe', 'Goan Moolyacho Ross Recipe', 'Gujarati Dabeli Recipe', 'Mixed Vegetable Handi Recipe', 'Stuffed Mushrooms With Spinach and Parmesan Recipe', 'Chenai Kizhangu Masiyal', 'Aam Panna Pani Puri Recipe ', 'Punjabi Bhindi Kadhi Recipe ', 'Tamil Nadu Style Potato Masiyal Recipe ', 'Goan Bimbla Uddamethi Recipe', 'Papaya Parsley Salad with Cheese Recipe', 'Mangalorean Manoli Bheeja Upkari Recipe ', 'Chilli Chicken Cheese Quesadilla Recipe ', 'Malwani Pumpkin And Raw Mango Curry Recipe', 'Maharashtrian Kakdi Thalipeeth Recipe ', 'Eggless Chocolate Mug Cake Recipe', 'Vegan Kofta Curry Recipe', 'Muttai Podimas Recipe ', 'Chilli Oil Recipe', 'Bathua Raita Recipe ', 'Szechwan Hakka Noodle Momo Recipe ', 'Khakhra Vegetable Pizza Recipe', 'Chicken Manchurian Dry Recipe ', 'Thai Pineapple Vegetarian Curry Recipe', ' Beet Apple Salad Recipe with Apple Cider Vinaigrette', 'Kerala Style Varutharacha Mutta Curry Recipe', 'Chicken Spinach Cheese Balls Recipe', 'Mexican Corn Salsa Recipe', 'Broccoli and Mushroom Stir Fry Recipe ', 'Sorakkai Paruppu Kuzhambu Recipe ', 'Badam Elaichi Kulfi Recipe ', 'Harissa Roasted Carrot Pizza With Pomegranate Sauce and Greek Yogurt Recipe', 'Soya Methi Sabzi Recipe ', 'Rajasthani Laal Maas Recipe', 'Moolangi Tovve Recipe', 'Smoked Vegetarian Spanish Rice Recipe', 'Thai Style Curried Corn Fritters Recipe', 'Kathal Biryani Recipe', 'Palak Tambuli Recipe', 'Mushroom Thoran Recipe', 'Broccoli Egg Bhurji Recipe', 'No Bake Eggless Mango Cheesecake Recipe', 'Karwar Style Valval Recipe', 'No Churn Strawberry Ice Cream Recipe', 'Spicy Roasted Pumpkin Carrot Soup Recipe', 'Kerala Style Vendakka Pachadi Recipe ', 'Andhra Style Pindi Miriyam Recipe ', 'Kerala Style Brinjal Curry Recipe', 'Mini Bajra Uttapam Recipe ', 'Chenakayi Erissery Recipe ', 'Chicken Yakitori Recipe  ', 'Kadalai Puli Kuzhambu With Mangalore Cucumber and Drumstick Recipe', ' Tamil Nadu Style Poo Kosu Poriyal Recipe', 'Oriya Style Ambila Recipe ', 'Kashmiri Style Nadru Yakhni Recipe', 'Karnataka Style Orange Peels Curry Recipe', 'Banana Bread With Chocolate Chips And Walnut Recipe', 'Pineapple Gojju Recipe ', 'Bengali Cholar Dal Recipe', 'Puran Poli Recipe', 'Chicken Manchurian Recipe Gravy', 'Creamy Cheese Mushroom Bruschetta Recipe', 'Konkani Style Mooga Ghushi Recipe', 'Chilli Cheese Paratha Recipe', 'Honey Roasted Sweet Potato With Red Onions Recipe', 'Valor Muthia Nu Shaak Recipe ', 'Thekera Tenga Recipe', 'Mustard Vegetable Curry Recipe', 'Konkani Style Vali Bendi Recipe', 'Tomato Rice With Basil Recipe', 'Conchiglie Pasta With Broccoli Recipe', 'Kathiyawadi Stuffed Onion Recipe', 'Brown Rice and Quinoa Risotto Recipe', 'Bhindi With Cashews and Coconut Sabzi Recipe', 'Whole Wheat Crust Pizza With Zucchini And Basil Sauce', 'Aloo Took Recipe', 'Kerala Style Taroo Root Curry Recipe ', 'Karnataka Style Badanekayi Palya Recipe ', 'Mangalorean Manoli Curry Recipe ', 'Goan Vegetable Curry Recipe', 'Baingan Methi Ka Bharta Recipe with Pomegranates', 'Paneer Biryani Recipe', 'Mung Bean Sprouts Salad Recipe With Brussel Sprouts and Pomegranate', 'Pacha Manga Pachadi Recipe ', 'Mexican Style Cemita Recipe ', 'Nendra Pazham Pulissery Recipe ', 'Stir Fried Wild Rice with Peri Peri Tofu Recipe ', 'Karlyachi Ambat Goad Bhaji Recipe', 'Goan Style Recheado Bangdo Recipe ', 'Charred Corn and Radish Salad Recipe', 'Mushroom and Spinach and Herbs Frittata with Egg White Recipe', 'Karwar Style Bibya Usal Recipe ', 'Tomato Basil Pasta And Pizza Sauce Recipe', 'Thouthe Kodel Recipe ', 'Mini Onion Vada With Vengaya Sambar Recipe ', 'KFC Style Crispy Chicken Popcorn Recipe', 'Kathirikai Pitlai Recipe', 'Mudaliar Style Omelette Curry Recipe', 'Hyderabadi Bagara Baingan Recipe', 'Kerala Style Mutton Pepper Fry Recipe', 'Andhra Style Patoli Recipe ', 'Roasted Red Pepper and Pumpkin Soup Recipe', 'Ringan Methi Nu Shaak Recipe ', 'Karatyacho Fodi Recipe ', 'Goan Style Black Chickpeas And Cucumber Masala Recipe ', 'Chinese Vegetable Dry Manchurian Balls Recipe', 'Mushroom Cutlet Vegetarian Sizzler Recipe', 'Fujian Style Green Vegetables Stir Fry Recipe', 'Jain Style Dal Makhani Recipe', 'Nadan Tomato Curry Recipe', 'Garlic Spinach Balls Recipe', 'Rava Fried Prawns Recipe', 'Batata Saragva Nu Shaak Recipe', 'Sweet Corn Vegetable Soup Recipe ', 'Herbed Dinner Rolls Recipe', 'Eggplant In Mustard Poppy Seed Yogurt Gravy Recipe', 'Batani Gassi Recipe', 'Black Rice Porridge Recipe', 'Ambur Star Chicken Biryani Recipe ', 'Roasted Pumpkin Spinach and Walnut Spaghetti Recipe', 'Kaju Butter Masala Recipe', 'Karnataka Style Harive Soppu Bendi Recipe', 'Corn Cakes Recipe With Mozzarella and Avocado Salsa Recipe', 'Khatti Arbi Ki Sabzi Recipe ', 'Vendakkai Vengayam Sambar Recipe ', 'Cauliflower In Coconut Milk Curry Recipe', 'Tagliatelle Pasta Recipe With Fresh Tomato Basil Sauce', 'Healthy Vegetable Multigrain Pancakes Recipe', 'Methi Turai Ki Sabzi ', 'Idli Manchurian Recipe With Oriental Twist', 'Kolambi Bhaath Recipe ', 'Baked Frittata With Pasta and Vegetables Recipe', 'Mamidikaya Pappu Recipe', 'Soya Chunks Masala in Coconut Milk Recipe', 'Tawa Tandoori Roti Recipe ', 'Pahari Style Phanu Recipe ', 'Watermelon Panzanella Salad Recipe', 'Stuffed Cabbage Rolls Recipe', 'Dahi Achari Bhindi Recipe ', 'Roasted Carrots and Mushroom Pasta In White Sauce Recipe', 'Karwar Style Surana Bhaji Recipe ', 'Shimla Mirchi Panchamrut Recipe ', 'Burnt Garlic Veg Fried Rice Recipe', 'Konkani Style Maskasangi Magge Koddel Recipe', 'No Onion No Garlic Rajasthani Gatte Ki Kadhi Recipe', 'Indian Style Fajitas Recipe', 'Karwar Style Kairichi Udid Methi Recipe ', 'Chow Chow Sambar Recipe ', 'Crunchy Ragi And Oats Breakfast Bowl Recipe', 'Pav Bhaji Pizza Recipe', 'Kaddu Posto Recipe ', 'South Indian Poli Recipe', 'South Indian Paniyaram Recipe ', 'Ajwaini Tamatar Bhindi Recipe', 'Milagu Rasam Recipe ', 'Chicken Chops Recipe', 'Spiced Cauliflower And Almond Soup Recipe', 'Panasa Pottu Pappu Koora Recipe', 'Gutti Dondakaya Vepudu Recipe ', 'Broccoli Paratha Recipe', 'Tadkewali Masoor Dal Recipe ', 'No Onion No Garlic Cabbage Kofta Curry Recipe', 'Doddapatre Soppina Chitranna Recipe ', 'Fusilli Alla Caprese Recipe', 'Masoor Dal Makhni Recipe', 'Chettinad Keerai Mandi Recipe ', 'Quick And Spicy Bell Pepper Pasta Recipe', 'Moroccan Harira Recipe ', 'Mushroom And Quail Egg Gougere Recipe', 'Asian Black Pepper Basa Fish Recipe ', 'Fansi Muthia Nu Shaak Recipe ', 'Pui Shaager Chorchori Recipe', 'Vegetable Manchurian Balls Recipe ', 'Sri Lankan Chicken Curry Recipe', 'Eggless Cranberry Pistachio Biscotti Recipe ', 'Bhopli Mirchi Chi Peeth Perun Bhaji Recipe', 'Arbi Jhol Recipe ', 'Methi Murgh Recipe', 'Andhra Pepper Chicken Recipe ', 'Light And Creamy Broccoli Soup Recipe', 'Chettinad Chicken Recipe ', 'Chettinad Chicken Roast Recipe ', 'Nadan Kozhi Recipe', 'Vazhakkai Milagu Kootu Recipe ', 'Mint Vegetables Moilee Recipe', 'Sindhi Karela Bhaji Recipe ', 'Goan style Caril De Camarao Recipe', 'Baked Stuffed Mushrooms With Cheese Recipe', 'Open Bean and Veggies Burrito Muffin Recipe', 'Goan Lady Fish Curry Recipe ', 'Beetroot Tambuli Recipe', 'Senai Kizhangu Gotsu Recipe ', 'Thai Style Mango Chicken Coconut Curry Recipe ', 'Aglio E Olio Pasta Recipe with Roasted Cauliflower and Peppers and Cashew Nuts', 'Beetroot Dip Recipe Served With Crackers', 'Asian Style Mixed Fried Rice Recipe', 'Kerala Kadala Curry Recipe ', 'How to Make Homemade Jalebi Recipe', 'Kerala Style Beetroot Pachadi Recipe', 'Spinach Tomato Soup Italian Style Recipe', 'Cabbage and Bell Pepper and Apples with Sriracha Slaw Recipe ', 'Aloo Bhindi Masala Gravy Recipe', 'Khatte Chole Recipe ', 'Wheat Berry Salad With Cranberries and Carrots Recipe', 'Kottambari Tambuli Recipe', 'Mushroom Tikka Masala Recipe ', 'Gehu Bajra Thepla Recipe', 'Crisp Baked Tandoori Mayo Cheddar Chicken Recipe', 'Turkish Pide Recipe ', 'Gajar Pulao Recipe ', 'Italian Oat Crust Pizza Topped With Spinach And Paneer Recipe', 'Dahi Methi Puri Recipe ', 'Lentil Tabbouleh Recipe', 'White Beans And Spinach Enchiladas Recipe With Spicy Jalapeno Sauce', 'Bihari Aloo Bhujiya Recipe', 'Sweet and Spicy Soy Dipping Sauce Recipe ', 'Arbi Ka Saag Recipe', 'Karamani Poriyal Recipe', 'Grilled Aubergines with Tzatziki Sauce Recipe', 'Konkani Style Southe Koddel Recipe', 'Apple Vanilla Whole Wheat Pancakes Recipe', 'Pan Fried Chinese Chilli Chicken recipe', 'Himachal Style Pahari Sidu Recipe ', 'Baked Egg With Quinoa and Tomato Sauce Recipe ', 'Foxtail Millet Pongal Recipe', 'Healthy Methi Matar Malai  Recipe', 'Egg Scramble With Drumstick Leaves Recipe', 'Spicy Sweet Potato Hash Brown Waffles Recipe ', 'Chettinad Paruppu Urundai Kuzhambu Recipe', 'High Fiber Oat And Orange Coconut Parfait Recipe', 'Missi Roti Recipe', 'Broccoli With Lemon Butter Sauce Recipe ', 'Parangikkai Keerai Kuzhambu Recipe ', 'Chunky Cucumber Salsa Recipe', 'Dal Shorba Recipe ', 'Steamed Chicken With Salad Recipe ', 'Hariyali Tawa Fish Fry Recipe', 'Andhra Style Davva Aava koora Recipe ', 'Sorakkai Kozhukattai Paal Kuzhambu Recipe ', 'Chinese Fried Rice Recipe ', 'Green Chilli Vegetable Recipe', 'Chingiri Paturi Recipe', 'Tortilla Pizza With Tomato and Onion And Capsicum Recipe', 'Fruit Pachadi Recipe', 'Kathirikai Rasavangi Recipe ', 'Shakkar Para Recipe ', 'Bengali Style Kaddu Lobia ki Sabzi with Panch Phoran Masala', 'Doddapatre Tambuli Recipe ', 'Narthangai Curry', 'Goan Style Tonak Alsanyache Recipe ', 'Baked Matar Kachori Recipe', 'Paneer Tikka Kathi Roll Recipe', 'Traditional Matar Kachori Recipe', 'Gobi and Soya Keema Recipe', 'Mangalorean Style Sonay Sukka Recipe', 'Ajwain Puri Recipe', 'Chutney Podi Sadam Recipe ', 'Kathirikai UrulaiKizhanghu Pachidi Recipe ', 'Spicy Stir Fried Broccoli Recipe', 'Methi and Pudina Aloo Sabzi Recipe ', 'Mujaddara Recipe', 'Kori Gassi Recipe ', 'Balsamic Glazed Eggplant Feta Rollatini Recipe', 'Tamil Nadu Style Kothamali Aval Upma Recipe ', 'Namak Para Recipe ', 'Spinach And Corn Pasta Salad In Jar Recipe', 'Kerala Style Pacha Mango Avial Recipe ', 'Spicy Kiwifruit Salsa and Feta Toasties Recipe', 'Healthy General Tsos Chicken Recipe', 'Radhaballabhi Recipe', 'Herbed Baby Potatoes Recipe', 'Baked Creamy Potato Gratin Recipe', 'Stuffed Mooli Paneer Paratha Recipe ', 'Milagu Keerai Poricha Kootu Recipe ', 'Kashmiri Style Rista Recipe', 'Shanghai Style Mantou Recipe ', 'Apple and Bok Choy Salad Recipe', 'Mixed Beans Salad Recipe', 'Black Bean Noodles Recipe', 'Spicy and Masaledar Aloo Gobi and Beans Tawa Sabzi Recipe', 'Ilish Macher Korma Recipe', 'Olya Kaju Chi Amti Recipe', 'Roasted Vegetable Lasagna Recipe ', 'Konkani Style Vengaya Sagle Recipe ', 'Chamadumpa Sabzi Recipe', 'Spicy Yogurt Curry Recipe', 'Savoury Oatmeal Porridge Recipe', 'Pudina Tambuli Recipe ', 'Gulab Phirni Recipe', 'Veg Lebanese Mihshi Malfuf Recipe', 'Creamy Alfredo Cauliflower Pasta Recipe', 'Radish Leaves Pachadi Recipe', 'Pizza Pinwheels Recipe', 'Bhindi Masala Recipe', 'French Toast Recipe', 'Lemon Rice Recipe ', 'Beerakaya Tomato Koora Recipe ', 'Makhana Moongphali Ki Kadhi Recipe ', 'Andhra Style Kandagadda Vepudu Recipe ', 'Tofu Fried Rice Recipe', 'Irish Soda Bread Recipe ', 'Mixed Sprouts In Chettinad Masala Recipe', 'Budhha Delight Recipe', 'Matar Masala Tofu Recipe', 'Indo Chinese Spicy Schezuan Sauce', 'Vegetarian Corn Chowder Soup Recipe', 'Whole Wheat Vegetarian Stromboli Recipe', 'Badusha Recipe ', 'Kodava Kummu Curry Recipe', 'French Style Potato Salad Recipe', 'Creamy Thai Sweet Potato Curry Recipe', 'Vietnamese Lemongrass Shrimp Skewers Recipe ', 'Muringakka Manga Mulakushyam ', 'Podi Potta Pachhai Kathirikai ', 'Kuvale Sasam Recipe ', 'Vietnamese Rice Paper Rolls Recipe', 'Masoor Dal Gassi Recipe', 'Cinnamon Sugar Focaccia Bread Recipe', 'Stuffed Palak Paneer Paratha', 'Fish Molee Recipe', 'Ilish Pulao Recipe ', 'Chinese Style Sweet And Spicy Broccoli Stir Fry With Sausage Recipe', 'Smoked Dhaba Dal Recipe ', 'Mangalore Style Nurge Gashie Recipe', 'Dhaba Style Green Moong Dal Makhani Recipe', 'Penne Rigate With Minced Chicken Sauce and Cheese Recipe', 'Indo Chinese Hot and Sour Spinach Soup Recipe', 'Methi Lachha Paratha Recipe', 'Caramelized Banana French Toast Recipe', 'Whole Wheat Sunflower Seed Bread Recipe', 'Pohala Jhola Recipe ', 'Kanchipuram Idlis Recipe', 'Carrot Cake Pancakes Recipe', 'Peas Pulao Recipe ', 'Tomato and Sunflower Seed Dip Recipe', 'Andhra Style Tomato Cauliflower Koora Recipe', 'Karnataka Style Badanekai Yennegai Gojju Recipe  ', 'Bullseye On Toast Recipe ', 'Tirunelveli Mor Kuzhambu Recipe', 'Panjiri Recipe ', 'Chicken Yakisoba Recipe ', 'Foxtail Millet Khichdi Recipe with Batata Aloo Nu Shaak', 'Vegan Chickpea Omelette Recipe ', 'Goan Style Brinjal Bharta Recipe', 'Spinach and Basil Pasta Sauce Recipe ', 'Dry Navratan Korma Recipe', 'Udupi Style Alsande Kayi Saaru Recipe ', 'Spicy Lemon Chilli Paneer Tart With Curry Leaves Recipe ', 'Thengai Paal Sadam Recipe', 'Chilli Paneer Recipe ', 'Soya Methi Palak Ki Sabzi Recipe', 'Paalkatti Chettinad Curry Recipe ', 'Andhra Gongura Pulihora Recipe', 'Paneer And Spinach Puff Recipe', 'Sarson Ka Saag Recipe', 'Kovakkai Poriyal Recipe -', 'Eggplant Steaks Recipe', 'Manathakkali Kootu Recipe', 'Cuban Black Bean Salad Recipe', 'Awadh Style Bakarhani Roti Recipe', 'Whole Wheat Methi Garlic Naan Recipe ', ' Steamed Chicken Dumpling Recipe ', 'Chaat Masala Mashed Potato Toasted Sandwich Recipe', 'Sri Lankan Pumpkin Curry Recipe ', 'Butter Chicken Recipe ', 'Nawabi Mixed Vegetable Gravy Recipe', 'Lebu Lonka Murgi Recipe ', 'Pudina Moong Dal Recipe ', ' Pomegranate Molasses Recipe ', 'Raw Jackfruit Burrito Recipe ', 'Kori Gassi Recipe ', 'Homemade Healthy Sour Cream Recipe ', 'Spicy Haryana Style Egg Curry Recipe', 'Rajasthani Dal Recipe', 'Breakfast Hash Browns Recipe', 'Homemade Cinnamon Rolls Recipe', 'Gluten Free Rice Flour Pizza Crust With Roasted Vegetables and Feta Cheese Recipe', 'Matar Paneer Recipe ', 'Thayir Semiya Recipe', 'Andhra Dondakaya Ulli Kura Karam Recipe ', 'Broken Wheat And Green Moong Khichdi Recipe', 'Healthy Oats Waffles Recipe', 'Cheesy Loaded Veggie Nachos Recipes', 'Vazhaipoo Bajra Adai Recipe ', 'Himachali Pahari Auriya Kaddu Recipe ', 'Mushroom Caldine Recipe', 'Oats and Mango and Yogurt Breakfast Parfait', 'Jhinga Gawar Recipe', 'Chettinad Sura Meen Kuzhambu Recipe ', 'Karnataka Style Ragi Ujju Rotti Recipe', 'Bajri Ki Roti Recipe', 'Kumror Chokka Recipe ', 'Smoked Tofu And Grilled Vegetable Salad Recipe', 'Mangalorean Style Ambe Upkari Recipe ', 'Kerala Pazham Pori Recipe ', 'Butter Garlic Naan Recipe ', 'Whole Wheat and Ragi Crust Skillet Pizza Recipe', 'Indian Style Beetroot Soup Recipe', 'Chikkudukaya Vepudu Recipe', 'Mung Bean and Tofu Salad Recipe ', 'Punjabi Samosa Recipe', 'Sugar Free Granola Parfait Recipe', 'Turmeric Amla Ginger Juice  and Indonesian Jamu Recipe ', 'Calcutta Style Ghugni Recipe-', 'Dahi Wale Tinda Ki Sabzi Recipe ', 'Srilankan Style Sambol Recipe', 'Chinese Bhel Recipe ', 'Jowar Atta Pyaz Thepla Recipe ', 'Bihari Shakarkand Bhujiya Recipe', 'Protein Rich Paneer And Horse Gram Soup Recipe', 'South Indian Bajji Recipe ', 'Puli Koozh Recipe', 'Chicken Mie Goreng Recipe', 'Potala Rasa Recipe ', 'Rava Ladoo Recipe ', 'Kongunadu Style Arisi Paruppu Sadam Recipe', 'Mullu Murukku Recipe ', 'Fried Artichokes Recipe ', 'Whole Wheat Masala Papdi Recipe ', 'Ringna No Olo Recipe ', 'Gujarati Dal Recipe ', 'Chicken Teriyaki Rice Bowl Recipe', 'Pulikuthi Upperi Recipe ', 'Kashmiri Dahi Baingan Recipe ', 'Bihari Style Kadhi Badi Recipe', 'Karnataka Special Huli Tovve Recipe', 'Paruppu Urundai Rasam Recipe ', ' Sindhi Style Lotus Stem Spinach Brinjal Sabzi', 'Spinach Stir Fry Recipe With Garlic', 'Cucumber Mor Kuzhambu Recipe', 'Coriander Chicken Roast Recipe', 'Amritsari Fish Gravy Recipe', 'Roasted Garlic No Knead Skillet Bread Recipe With Olives', 'Braised Pork Belly Recipe', 'Waffled Falafels and Vegetables Recipe', ' Turkish Style Egg Scramble With Bell Peppers', 'Lemon Oats Recipe', 'Mugachi Usal Recipe', 'Kosamalli Recipe ', 'Cheese Garlic Bread Recipe', 'Instant Granola In A Microwave Recipe', 'Sprouted Moong Dal Recipe ', 'Korean Style Kim chi Udon Stir Fry with Scallions Recipe', 'Roasted Broccoli And Potato Dip Recipe', 'Andhra Style Allam Pachadi', 'Konkani Style Vaingana Kaap Recipe ', 'Tawa Mushroom Recipe ', 'Tofu and Peanut Noodles', 'Easy Creamy Chicken Curry Recipe', 'Gajar Methi Poriyal Recipe ', 'Ambur Style Brinjal Curry Recipe', 'Pasta Payasam Recipe ', 'Beetroot Salad Recipe with Mixed Greens and Feta Cheese', 'Instant Khaman Dhokla Recipe', 'Rajgira Paneer Paratha Recipe ', 'Barnyard Millet and Ragi Khichdi Recipe', 'Chinese Vegetable Fried Rice With Cabbage', 'Mango Shrikhand Taco Recipe ', 'Herbed Potato And Green Olive Salad Recipe', 'Honey Sesame Chilli Potato Recipe ', 'Healthy Fulkopir Paturi Recipe ', 'Burnt Garlic Mushroom Fried Rice Recipe ', 'Mulakootal  Recipe', 'Kashmiri Kesar Pulao ', 'Doli Ki Roti Recipe ', 'Kali Mirch Singhare Ki Sabzi Recipe ', 'Chole Biryani Recipe', 'Gujarati Undhiyu Recipe ', 'Herbed Buttered Rice Recipe With Green Peas ', 'Upvaas Thalipeeth Recipe', 'Rosemary Mushroom Oatmeal With Fried Eggs ', 'Carrot And Coriander Soup Recipe', 'Saragva Nu Shaak Recipe', 'Bengali Aloo Dum Recipe', 'Leek Mushroom and Lemon Risotto Recipe', 'Homemade Guacamole Recipe', 'Tomato Relish Recipe', 'Spicy Mexican Salsa Recipe ', 'Paneer Naan Pizza Recipe', 'Amritsari Sookhi Dal Recipe ', 'Creamy Spinach Basil Pasta Recipe', 'Baale Dindu Kadale Palya', 'Kashmiri Style Modur Pulao With Pomegranate Recipe ', 'Spring Onion and Roasted Garlic Brown Rice Recipe ', 'Avocado And Almond Salad Recipe With Feta Cheese', 'Oriya Style Ghanta Tarkari Recipe ', 'Karnataka Style Kadle Kaalu Saru Recipe', 'Rosemary Chicken Rice Recipe With Spicy Tomato Garlic Sauce ', 'Mavinakayi Chitranna Recipe ', 'Mexican Style Fresh Rajma Bean and Raw Mango Salad Recipe', 'Sindhi Kadhi Recipe', 'Calicut Payyoli Chicken Fry Recipe', 'Egyptian Koshari Recipe', 'Lal Mathachi Bhaji Recipe ', 'Jackfruit Seed Korma Recipe', 'Whole Wheat Chocolate Chip Cookie Recipe With Jaggery ', 'Punjabi Garam Masala Powder Recipe', 'Whole Wheat Muesli Pancake with Spirulina Recipe', 'Coorg Style Kaad Manga Curry Recipe ', 'Paka Kela Ki Sabzi Recipe ', 'Basic Homemade Bread Recipe Using Yeast', 'Homemade Quick Puff Pastry Sheet Recipe', ' Baingan Masala', 'Foxtail Millet Fried Rice Recipe', 'Goan Style Khatkhatem Recipe', 'Tomato Puree Recipe ', 'Stuffed Makai Paratha Recipe ', 'Sweet Potato Thepla', 'Broccoli Cheddar Frittata Recipe', 'Pull Apart Mini Pizza Boats Recipe', 'Chicken Donne Biryani Recipe ', 'Raw Banana and Ajwain Paratha Recipe', 'Pizza With Soy And Corn Recipe', 'Ridge Gourd Pachadi Recipe', 'Homemade Corn Tortilla Recipe', 'Churros Recipe With Cinnamon and Sugar ', 'Creamy Veg Spring Roll Recipe ', 'Tuna Rasam Bhaji Recipe ', 'Methi Aur Kache Kele Ki Sabzi Recipe', 'Beetroot Pancake Recipe', 'Healthy Lauki Kofta Curry Recipe ', ' Malabar Rice Flatbread Recipe', 'Karnataka Style Chicken Saaru Recipe ', 'Roasted Red Pepper Hummus Recipe ', 'Vegetable Tortilla Pizza Recipe', 'North Indian Chawli ki Sabzi Recipe ', 'Watermelon Pizza Recipe', 'Tisrayanche Suke Recipe ', 'Hummus Flavoured With Garlic Recipe', 'Aloo Paratha Recipe ', 'Savory Melon Salad Recipe', 'Penne Arrabbiata Pasta Recipe', 'Radish Soup Recipe', ' Gujarati Gol Papdi', 'Whole Wheat Pita Bread Recipe', 'Homemade Pita Bread Recipe ', 'Mushroom Ghee Roast Recipe ', 'Roasted Garlic Potato Soup Recipe', 'Eggless Whole Wheat Apple Cake Recipe', 'Besan Cheela Recipe Stuffed With Chatapa Paneer', 'Brown Rice In Pressure Cooker Method', 'Bengali Dhokar Dalna Recipe', 'Bihari Karela Aloo Sabzi Recipe', 'Mushroom Manchurian Recipe', 'Roasted Vegetable Farfalle Pasta Salad Recipe', 'Southekayi Palya Recipe', 'Mangalorean Style Bhindi Sambar Recipe', 'Papaya Orange Pomegranate Salad Recipe With Roasted Peanuts', 'Urulai Kizhangu Roast Recipe ', 'Sakkaravalli Kizhangu Poriyal Recipe', 'Muesli Chia Seed and Dry Fruit Jar Recipe', 'Stir Fried Water Chestnuts Recipe', 'Quinoa Veg Soup Recipe', 'Soya Chunks And Beetroot Biryani Recipe', 'Reshmi Kofta Recipe in Rich Cashew Gravy', 'Potato and Basil Frittata Recipe', 'Methi Jowar Ragi Thalipeeth Recipe ', 'Savory French Toast Recipe With Creamy Achari Mushroom', 'Sauteed Spicy Prawns Recipe', 'Baked Pasta Recipe With Spinach And Artichoke', 'Badami Paneer Masala Recipe ', 'Meat Masala Stuffed Bharwa Baingan Recipe', 'Goan Prawns Vindaloo Recipe', 'Shanghai Style Chap Nian Gao Recipes', 'Dahi Bhindi Recipe ', 'Korean Japchae Noodles Recipe ', 'Goan Style Sangacho Ross Recipe', 'Gawar Phali Methi Ki Sabzi Recipe ', 'Kadai Mushroom Recipe', 'Raw Jackfruit Kofta Curry Recipe ', 'Kale White Bean Hummus Dip Recipe', 'Broccoli and Vegetable Coconut Curry Recipe', 'One Pot Spinach Macaroni Pasta Recipe', 'Vegetarian Burmese Khow Suey', 'Sweet Potato Sabzi Recipe', 'Paplet Hooman Recipe ', 'Spicy Whole Wheat Roti Taco Bowls Recipe', 'Spinach Enchilada Recipe ', 'Homemade Granola Mix Recipe with Oats & Wheat Flakes', 'Buckwheat Vegetable Khichdi Recipe', 'Egg Butter Masala Recipe', 'Tofu Stir Fry Curry Recipe', 'Ruote Pasta and Eggplant Gratin Recipe', 'Cauliflower Curry With Bell Peppers And Carrots In Spiced Milk Gravy', 'Beetroot Hummus Recipe', 'Fresh Homemade Basil Pesto recipe', ' Aloo Tamatar Ki Sabzi', 'Methi Matar Pulao Recipe - Fenugreek Green Peas Pulao', 'Homemade Mysore Pak Recipe ', 'Mughlai Style Chicken Changezi Recipe', 'Kodava Mudi Chekke Barthad Recipe ', 'Whole Wheat Oats And Pesto Bread Recipe', 'Mangalorean Padengi Gassi Recipe ', 'Tawa Gobi Manchurian ', 'Kasuri Methi Chole Recipe', 'Udupi Tomato Rasam Recipe', 'Mooli Paratha Recipe ', 'Cold Asian Noodle Salad Flavoured With Peanuts And Sesame', 'Bengali Style Dhokar Dalna Recipe', 'Green Beans In Pomegranate Cream Sauce Recipe', 'Moong Dal Sookhi Sabzi Recipe', 'Classic Pizza Margherita Recipe ', 'Traditional Amritsari Chole Recipe ', 'Pearl Barley Vegetable Soup Recipe ', 'Kerala Style Cauliflower Kurma Recipe', 'Jalapeno Cilantro Lime Rice Recipe ', 'Kothamalli Rava Upma Recipe', 'Roasted Vegetable Quesadilla Recipe With Carrots and Red Cabbage', 'Aloo Bhey Ki Sabzi Recipe ', 'Khatti Meethi Palak Khichdi Recipe', 'Ragi Rava Dosa Recipe With Oats ', 'Warqi Paratha Recipe', 'Dahi Ma Bheeda Recipe ', 'Pyaz Wali Bhindi Recipe ', 'Aloo Matar Sabzi Recipe ', 'Chettinad Muttai Paniyaram Recipe ', 'Paneer Gassi Recipe ', 'Cabbage Poricha Kootu Recipe', 'Whole Wheat Sun Dried Tomato Focaccia Bread ', 'Chatpata Aloo Chaat Taco Recipe With Sour Cream and Salad', 'Cottage Cheese Pancake Recipe Stuffed With Chocolate ', 'Whole Wheat Flour Puttu Recipe', 'Apple Almond Cake Recipe ', 'Mango Milkshake Recipe ', 'Gehun Ka Halwa Recipe ', 'Coconut French Toast with Chocolate Chips Recipe', 'Egg White Spinach Omelette Recipe With Garlic and Oregano', 'Thai Raw Papaya Salad Recipe With Lemon Peanut and Honey Dressing', 'Singhara Pulao Recipe ', 'Coriander Tamarind Millet Rice Recipe', 'Vegetarian  Mexican Quesadilla Recipe', 'Matar Samosa Chaat Recipe ', 'Phalguni Dal Recipe', 'Konkani Style Batata Song Recipe ', 'Baked Eggplant Stuffed with Red Lentil Hummus Recipe', 'Maharashtrian Aloo Bhujne Recipe ', 'Stuffed Tomato With  Quinoa And Feta Recipe', 'Quick and Easy Eggless Whole Wheat Chocolate Cupcake Recipe', 'Vegetable Rava Upma Recipe  ', 'Vegetable Au Gratin with Cauliflower Carrots and Beans', 'Kathirikai Sundakkai Vathal Kuzhambu Recipe', 'Chatpate Aloo Recipe With Sesame Seeds', 'Vegetarian Mexican Fried Rice Recipe', 'Spaghetti Pasta Recipe in Basil Pesto Sauce', 'Homemade Loaded Chicken Nachos Recipe', 'Kerala Egg Roast Masala Recipe', 'Maddur Vada Recipe  ', 'Couscous Salad With Cucumber And Feta Cheese Recipe', 'Classic Homemade Hummus Recipe With Lemon And Coriander', 'Punjabi Rajma Masala Recipe ', 'Hariyali Matar Recipe', 'Vempampoo Rice Recipe ', 'Sun Dried Tomato Olive Pasta In Fresh Tomato Sauce Recipe', 'Schezwan Chicken Sizzler Recipe', 'Chicken Lasagna Recipe', 'Keerai Karamani Kuzhambu', 'Mutton Varattiyathu Recipe ', ' Rajasthani Dal ', 'Dhaba Style Dal Palak Recipe', 'Tamatar Pyaz Ki Sabzi Recipe', 'Beans Matki Bhaji Recipe ', 'Smoked Dal Makhani Recipe', 'Sweet And Sour Vegetables With Paneer Curry Recipe ', 'Cabbage Thoran Recipe ', 'Nepalese Vegetable Pulao Recipe', 'Muttaikose Poriyal Recipe ', 'Dal Kabila Recipe ', 'Huruli Sundal Recipe ', 'Parsi Salli Murgh Recipe ', 'Eggless Spicy Spinach Bread Recipe', 'Khatta Meetha Tamatar Sabzi Recipe ', 'Dhaba Style Chana Masala From Deserts of Jaisalmer', 'Aloo Methi Sabzi Recipe', 'Lahsuni Paneer Recipe ', 'Stuffed Zucchini Recipe With Roasted Peppers and Mushrooms Made With Cheesy Dip', 'Onion and Tomato Dosa Savoury Waffles Recipe', 'Pudalangai Poriyal Recipe  ', 'Baingan Ki Lonje Recipe ', 'Roasted Carrot and Green Pepper Hummus Recipe', 'Homemade Paneer Recipe', 'Andhra Style Vegetarian Biryani with Soya Chunks Recipe ', 'Sambal Spiced Veggie Mee Goreng Recipe', 'Quinoa Brown Rice and Vegetable Pulao Recipe', 'Peanut Chilli Dipping Sauce Recipe', 'Puliyogare Recipe with Pulikachal', 'Beetroot Raita Recipe ', 'Spring Onion and Pepper Soup Recipe', 'Raw Papaya Mor Kootu Recipe ', 'Beetroot Poriyal Recipe ', 'Kerala Style Varutharacha Mutton Curry Recipe', 'High Protein Moong Dal Cheela Recipe With Stuffed Paneer', 'Vegetable Tagine Recipe', 'Dhania Chole Masala Recipe', 'Herb and Cheese Mushroom Omelette Recipe', 'Paneer in White Gravy Recipe', 'Herbed Focaccia Bread Recipe', 'Spicy Broken Wheat Khichdi With Vegetables Recipe', 'Chickpea and Broccoli Quesadilla Recipe ', 'Grilled Chicken Wings Recipe', 'Rumali Roti Recipe ', ' Tso Cauliflower Recipe', 'Minced Meat and Corn Stuffed Bell Peppers Recipe', 'Kashmiri Style Chicken Pulao Recipe ', 'Murg Malai Kebab Recipe', 'Matar Besan And Paneer Cheela Recipe', 'Italian Classic Bread With Cheese And Herbs', 'Bhugi Dal Paratha Recipe ', 'Chettinad Takkali Sadam Recipe ', 'Kesar Pista Kulfi Recipe', 'Asian Style Paper Wrapped Chicken Recipe', 'Spiced Festival Drink With Saffron And Dry Fruits', 'Oatmeal Pancake Recipe With Orange', 'Broccoli And Tofu Green Curry Recipe', 'Rajasthani Chawle Wale Dhokle Recipe', 'Goan Style Caldinho de Abobora Branca Recipe', 'Dry Fruit Gujiya Recipe ', 'Gahat Rasmi Badi Recipe ', 'Vadyancho Ross Recipe ', 'Feijoada Recipe ', ' Aloo Baingan Ki Sabzi Recipe ', 'Posto Pabda Recipe', 'Four Cheese and Spinach Stuffed Mushrooms Recipe', 'Nepalese Style Dhal Bhat Recipe ', 'Baked Pasta Recipe with Paneer and Spinach', 'Pyaz Kachori Chaat Recipe', 'Baked Mexican Rice Recipe', 'Whole Wheat Achaari Aloo Tacos ', 'Murungai Keerai Puttu Recipe ', 'Avarekalu Usli Recipe ', 'Lemon Thyme Rasam Recipe', 'Chettinad Mutton Chops Kuzhambu Recipe-', 'Baked Whole Wheat Masala Baati Recipe', 'Qorma Baamia Recipe', 'Rajasthani Dal Muthiya Recipe', 'French Onion Tart Recipe', 'Carrot Cake Overnight Oats Recipe', 'French Crullers Recipe', 'Jaggery Sweetened Apple Oatmeal Recipe ', 'Vazha Thandu Poriyal Recipe  ', 'Gujarati Ripe Mango Curry Recipe ', 'Lehsuni Methi Paneer Recipe ', 'Shakshuka With Spinach and Feta Cheese Recipe ', 'Kurkuri Bhindi With Spicy Tomato Yogurt Gravy Recipe', 'Spinach Pizza With Sun Dried Tomatoes and Feta Cheese', 'Curried Couscous Recipe', 'Corn Toast Recipe With Moong Sprouts and Vegetables', 'Andhra Gongura Pachadi Recipe ', 'Pineapple Cucumber Salad Recipe With Lemon Dressing', 'Vendakkai Podi Curry Recipe ', 'Aloo Bhindi Sabzi Recipe ', 'Aubergine in Spicy Peanut Sauce Recipe', 'Fusion Style Paneer Malai Makhani Recipe', 'Banana-Almond Butter Bread Recipe', 'Mangalorean Style Kayi Vade Recipe ', 'Khajur Satori Recipe ', 'Kashmiri Kokur T Nadir Recipe', 'Vegetarian Mexican Tacos Recipe With Baked Beans and Peppers', 'Mangalore Style Southe  kadubu Recipe ', 'Avarekalu Kadubu Recipe ', 'Kerala Style Ulli Theeyal Recipe ', 'Kathirikai Urulai Kizhangu Kara Kuzhambu Recipe', 'Mullangi Poriyal Recipe ', 'Semolina Vegetable Chilla Recipe', 'Assamese Poita Bhat With Aloo Pitika Recipe', 'Maharashtrian Tomato Saar Recipe', 'Maharashtrian Anarsa Recipe', 'Varan Bhaat Recipe ', 'Potato Sagu Recipe for Rava Idli', 'Kerala Style Tapioca with Coconut Curd Chutney Recipe', 'Vegetarian Mexican Chili for Tacos Recipe ', 'Drumstick Dal Recipe', 'Kollu Rasam Recipe ', 'Andhra Style Aratikaya Vepudu Recipe ', 'Peanut Butter Chocolate Oatmeal Bars Recipe', 'Butternut Squash And Carrot Soup Recipe', 'Idli Tikka Recipe With Sambar', 'Gujarati Kadhi Recipe ', 'Aloo Poha Recipe ', 'Nutty Pineapple Tutti Frutti Cake Recipe ', 'Hing Pani Puri Recipe', 'Crispy Whole Wheat Pizza With Spinach Pesto and Roasted Vegetables Recipe', 'Orange Mocktail Recipe', 'Baingan Bharta Recipe - Smoked Roasted Eggplant with Green Chillies and Ginger', 'Anhui Style 5 spice Corn Croquettes Recipe', 'Mughlai Aloo Lajawab Recipe', 'Tomato Onion Cucumber Raita Recipe', 'Ice Cream Tea Float Recipe', 'Frozen Strawberry Souffle Recipe', 'Chocolate Salted Caramel Tart Recipe', 'Asian Style Stuffed Omelette Recipe', 'Roti Gambang Recipe ', 'Orange Yogurt Cake Recipe', 'Roasted Eggplant and Olive Lasagna Recipe', 'Bendekaayi Gojju Recipe', 'Ragi Kuzhi Paniyaram Recipe with Ragi Dosa Batter', 'Uchellu Chutney Recipe', 'Crispy and Spicy Chilli Chicken Recipe ', 'Eggless Chocolate Banana Cake Recipe ', 'Gurellu Chutney Podi Recipe ', 'Classic Greek salad Recipe', 'Roasted Tomato Basil Pasta and Pizza Sauce Recipe', 'Bhel Puri With Raw Mango Recipe', 'Thai Style Tofu and Peanut Noodles', 'Jaipuri Aloo Pyaz Ki Sabzi Recipe Using Preethi Electric Pressure Cooker', 'Sweet and Spicy Stuffed Paneer In Kofta Curry Recipe', 'Paneer Stuffed Ragi Paratha Recipe ', 'Veg Mughlai Paratha Recipe', 'Raw Papaya Red Bell Peppers Stuffed Paratha', 'Karamani Sundal Recipe ', 'Sprouted Moong Chaat Recipe', 'Broccoli Peanut Oats Tikki Recipe', 'Tofu Mushroom Curry Recipe in Ginger Mustard Sauce', 'Kung Pao Tofu With Vegetables Recipe', 'Fruit Sandwich Recipe', 'Muhammara Recipe ', 'Classic Chettinad Seepu Seedai Recipe', 'Cranberry Cookie Recipe', 'Vegetable Manchurian Balls in Hot and Spicy Garlic Sauce', 'Stuffed Pita Recipe With Tandoori Mayo Chickpeas and Pickled Onions ', 'Baked Samosa Pinwheels Recipe', ' Danish Chocolate Pancake Puffs', 'Kerala Style Coconut Milk Stew Pasta Recipe ', 'Delicious Breakfast Anda Ghotala Recipe With Butter Pav', 'Crunchy Carrot Peanut Raita Recipe ', 'Asian Shrimp Rice Burger Recipe ', 'Eggless Cake Pops Recipe', 'Beetroot Sambar Recipe ', 'Eggless Peach Cobbler Recipe', 'Thai Style Beansprouts and Raw Mango Salad Recipe', 'Chettinad Style Tomato Vermicelli Upma Recipe', 'Chettinad Vegetable Biryani Recipe', ' Stir Fried Lotus Stem ', 'Fizzy Pomegranate Mint Mocktail Recipe', 'Sri Lankan Jack Fruit Curry Recipe With Pol Sambol', 'Butterscotch Marshmallow Mousse Recipe', 'Aamras Ki Kadhi Recipe ', 'Malabar Style Ney Pathiri Recipe', 'Nawabi Kofta Curry Recipe', 'Black And Green Grapes Panna Cotta Recipe', 'Eggless Whole Wheat Tutti Frutti Cake Recipe', 'Prawn Cutlets With Sweet Potatoes Wedges Recipe', 'No Bake Mango Yogurt Cheesecake Recipe With Raspberries', 'Fig Honey and Paprika Preserve Recipe', 'Oats Almond Apple Date Smoothie Recipe', 'Kavuni Arisi Halwa Recipe', 'Kerala Style Avial Recipe ', 'Karnataka Style Tamarind Gojju Recipe ', 'Pathare Prabhu Roath Recipe ', 'Crispy Bakwan Sayur Recipe', 'Apricot Muesli Coffee Slice Recipe', 'Karwar Style Yerappe Ani Recipe', 'Arugula Watermelon and Feta Salad Recipe', 'Bisi Bele Bath Recipe ', 'Nimki Aloo Anardana Curry Recipe ', 'Restaurant Style Phool Gobhi Masala Recipe', 'Golden Turmeric Almond Saffron Milk Shot Recipe', 'Bhel Puri Recipe ', 'Aloo Amritsari Recipe', 'Pasi Paruppu Kosumalli Recipe ', 'Tofu and Shrimp Salad Recipe With Balsamic Dressing', 'Summer Lettuce Salad with Cucumber and Tomato Recipe', ' Arabic Sweet Kunafa Recipe ', 'Oven Baked Rice Casserole Recipe ', 'Green Apple and Radish and Pepper Salad Recipe', 'Avocado Quinoa Breakfast Muffins Recipe', 'Chocolate Filled Pumpkin Cupcake Recipe With Raspberry Topping', 'Chickpea Flour Crepes Recipe With Salad And Chutney Spread', 'Eggless Traditional Christmas Cake Recipe ', 'The Bread Pudding Recipe with Baileys Irish Cream', 'Tamil Nadu Style Masala Dal Vada Recipe', 'Roasted Beet and Walnut Dip Recipe', 'Vegan Hot Chocolate Recipe', 'Kesar Pista Mango Ice Cream Recipe', 'Coconut Chocolate Balls Recipe', 'Poblano Chili Rellenos Recipe', 'Sweet and Spicy Pineapple Paneer Tikka Tawa Pizza Recipe', 'Curd Rice Thayir Sadam', 'Lemon Rosemary Sauce Baked Penne Pasta Recipe', 'Banarasi Chooda Matar', 'Rich Dark Chocolate Mousse Recipe', 'Homemade Harissa Paste Recipe', 'Peri Peri Fish Fingers Recipe ', 'Caramelized Ripe Plantains Without Added Sugar Recipe ', 'Whole Wheat Almond Bars Recipe', 'Eggless Saffron Yogurt Mousse Recipe With Cardamom and Nuts', 'Thelivu Rasam Recipe', 'Zucchini Paratha Recipe', 'Zucchini and Red Pepper Muffin Recipe', 'Aubergine And Cranberry Beans Dip Recipe', 'No Bake White Chocolate Cheesecake Recipe', 'Kerala Special Mambazha Puliserry Recipe', 'Karnataka Style Mangrasa Recipe ', 'Pumpkin Cheesecake Recipe', 'Rose Greek Yogurt Dessert Recipe With Pista and Coconut ', 'Carrot And Beans Poriyal Recipe For Babies And Toddlers', 'Plum Clafoutis Recipe ', 'Italian Open Toast Recipe With Grilled Ham and Cheese and Olives', 'Homemade Pani Puri Recipe', 'Stir Fried Honey Parsnip Recipe With Herbs', 'Low Fat Vegetable Dip Recipe with Herbs', 'Himachal Pahari Style Teliah Mah Recipe ', 'Insalata Caprese Salad Recipe', 'Maple Sweet Potato Bread Recipe', 'Rustic Cottage Pie With Mushroom Sauce Recipe', 'Egg Korma Recipe', 'No Bake Nutella Cheesecake Recipe', 'Eggless Coffee Caramel Cake With Walnuts Recipe', 'Sankara Meen Kuzhambu Recipe ', 'Whole Wheat Naan Recipe', 'Dry Fruits Meetha Paneer Paratha Recipe', 'Akhrot Ka Halwa Recipe ', 'Badam Ki Kheer Recipe - Spiced Almond Milk', 'Broccoli Capsicum Pulao Recipe', 'Banana Sheera Recipe ', 'Chironji And Makhane Ki Kheer Recipe', 'Dry Fruit Barfi Recipe', 'Goan Soya Mince Potato Chop Recipe', 'Thecha Paniyaram Recipe', 'Baked Yogurt With Honey Cinnamon Grilled Fruits Recipe', 'Asparagus With Paneer And Balsamic Butter Glaze Recipe', 'Chettinad Muttai Masala Recipe ', 'Sweet Potato And Bitter Gourd Kulambu Recipe', 'Semolina French Toast Recipe', ' Apple amd Carrot Salad Recipe', 'Quick Strawberry Yogurt Smoothie Recipe', 'Chicken Barbecue Pizza Recipe ', 'Egg And Ridge Gourd Burji', 'Lemon and Rosemary Cake with White Chocolate Glaze', 'Patta Gobi Sabzi Recipe - Cabbage Tomato Sabzi', 'Mango Chia Seeds Smoothie Topped with Muesli Recipe', 'Andhra Style Sarva Pindi Recipe ']\n"
     ]
    }
   ],
   "source": [
    "#Creating List with all food names(made this to compare input with food names in data)\n",
    "list_of_all_food=food_data[\"recipe_title\"].tolist()\n",
    "list_of_all_food=[str(food) for food in list_of_all_food]\n",
    "print(list_of_all_food)"
   ]
  },
  {
   "cell_type": "code",
   "execution_count": 33,
   "id": "66d8c11d",
   "metadata": {},
   "outputs": [
    {
     "name": "stdout",
     "output_type": "stream",
     "text": [
      "['Panjiri Recipe ', 'Hing Pani Puri Recipe', 'Kanchipuram Idlis Recipe']\n"
     ]
    }
   ],
   "source": [
    "#Finding the close match for movie given by user\n",
    "find_close_match=difflib.get_close_matches(food_name,list_of_all_food,cutoff=0.001)\n",
    "print(find_close_match)"
   ]
  },
  {
   "cell_type": "code",
   "execution_count": 34,
   "id": "03ddf143",
   "metadata": {},
   "outputs": [
    {
     "name": "stdout",
     "output_type": "stream",
     "text": [
      "Panjiri Recipe \n"
     ]
    }
   ],
   "source": [
    "close_match=find_close_match[0]\n",
    "print(close_match)"
   ]
  },
  {
   "cell_type": "code",
   "execution_count": 35,
   "id": "505aca1d",
   "metadata": {},
   "outputs": [
    {
     "name": "stdout",
     "output_type": "stream",
     "text": [
      "411\n"
     ]
    }
   ],
   "source": [
    "#Finding Index of movie with help of title\n",
    "index_of_the_food=food_data[food_data.recipe_title==close_match]['index'].values[0]\n",
    "print(index_of_the_food)"
   ]
  },
  {
   "cell_type": "code",
   "execution_count": 36,
   "id": "159b453e",
   "metadata": {},
   "outputs": [
    {
     "name": "stdout",
     "output_type": "stream",
     "text": [
      "[(0, 0.0), (1, 0.04017414826157209), (2, 0.011432005777675995), (3, 0.057954325133633106), (4, 0.15148469289930605), (5, 0.08523765009874516), (6, 0.014376806236381922), (7, 0.03616517623249068), (8, 0.13667777386612476), (9, 0.036334310347951315), (10, 0.09811348831564151), (11, 0.0673318469576232), (12, 0.024432484171713165), (13, 0.09621756751673702), (14, 0.1220131835294326), (15, 0.02230720662813017), (16, 0.11948623896099625), (17, 0.11485413896287441), (18, 0.10298442807356958), (19, 0.08783827045465141), (20, 0.009681939456394728), (21, 0.09527007276081517), (22, 0.030217535529304153), (23, 0.08249181899194132), (24, 0.09675453211809076), (25, 0.029788960253265183), (26, 0.06333074386134926), (27, 0.07009711780294442), (28, 0.18923319014712736), (29, 0.08139742422576529), (30, 0.1430661055973718), (31, 0.06741301035043279), (32, 0.033669005606469515), (33, 0.04973874999522725), (34, 0.011339484334551017), (35, 0.11790216594156479), (36, 0.02771428360199881), (37, 0.0358454599478268), (38, 0.08135963393530611), (39, 0.1308980949617588), (40, 0.16637410640780015), (41, 0.013468676232261816), (42, 0.13209317145544794), (43, 0.12771761019644462), (44, 0.13250833541086815), (45, 0.1699321551297499), (46, 0.17842500748600937), (47, 0.08745462934236924), (48, 0.10784786352041809), (49, 0.08447164122944828), (50, 0.1829187119823928), (51, 0.05930487477882588), (52, 0.10841676108098766), (53, 0.07959182040310137), (54, 0.18936102956271383), (55, 0.08291959204218144), (56, 0.19083192070365745), (57, 0.13771186534824506), (58, 0.12489573392121534), (59, 0.011847324356433863), (60, 0.09861498089810623), (61, 0.11449861089347221), (62, 0.11342325568631384), (63, 0.07249838592474542), (64, 0.0), (65, 0.11126407982582064), (66, 0.1271292606715042), (67, 0.053368787043298935), (68, 0.06198648068082532), (69, 0.16488265160854648), (70, 0.1679264432573366), (71, 0.03618518061565779), (72, 0.04715855243218175), (73, 0.05741503814436898), (74, 0.1609547141920108), (75, 0.09901476196342715), (76, 0.050631296406216185), (77, 0.049551826839580426), (78, 0.060806195265570524), (79, 0.16050409470398042), (80, 0.11411866367412367), (81, 0.10313084814574577), (82, 0.0), (83, 0.1620926189779827), (84, 0.021159973073939145), (85, 0.15298502665351157), (86, 0.11100229903239511), (87, 0.041644491654839196), (88, 0.17493445965464965), (89, 0.07595011112272651), (90, 0.08989582457444376), (91, 0.03815059641506868), (92, 0.023024577907292412), (93, 0.01668213669613067), (94, 0.0352092118508433), (95, 0.05868902814008288), (96, 0.0), (97, 0.1591653902227605), (98, 0.07358998982147805), (99, 0.0), (100, 0.0), (101, 0.06956853435576102), (102, 0.25607477515606697), (103, 0.07648463959171525), (104, 0.08519312818048048), (105, 0.1401169400125333), (106, 0.0768055543268942), (107, 0.010495975253487616), (108, 0.03450121042457148), (109, 0.16873464044456102), (110, 0.12901022412495833), (111, 0.12162383473240071), (112, 0.03759839831265149), (113, 0.0), (114, 0.0702831246023297), (115, 0.016183297470378288), (116, 0.04511662458874216), (117, 0.07936162383577974), (118, 0.10426649568059511), (119, 0.10919073136365895), (120, 0.09672766884635535), (121, 0.0963837766253764), (122, 0.0634984125082172), (123, 0.11181441032592868), (124, 0.07278372696667282), (125, 0.023444489408021123), (126, 0.16602229248337463), (127, 0.14228863750992066), (128, 0.06270723350324217), (129, 0.07107725873030986), (130, 0.164156126060487), (131, 0.19362155050644664), (132, 0.04276835106909642), (133, 0.0156720566392583), (134, 0.11316949106410479), (135, 0.08707126031561414), (136, 0.0), (137, 0.11051936298717459), (138, 0.030329694508496437), (139, 0.05913458403149813), (140, 0.048050238317644406), (141, 0.017084764342199604), (142, 0.031902957555689025), (143, 0.049602038030235676), (144, 0.012238646625942031), (145, 0.15367966411312295), (146, 0.10442430878460082), (147, 0.0850610853974756), (148, 0.11361834611559705), (149, 0.0868032932851803), (150, 0.13817900854920112), (151, 0.12463660341341103), (152, 0.15014020047865953), (153, 0.11870522250471226), (154, 0.0), (155, 0.10989470870832538), (156, 0.105570099338723), (157, 0.08351003162114431), (158, 0.06265268873082788), (159, 0.060422148503186855), (160, 0.040385220899704595), (161, 0.01100157967879572), (162, 0.020921085905510187), (163, 0.1552645070918863), (164, 0.035382458887722436), (165, 0.1253012822411788), (166, 0.04694142350636979), (167, 0.06891396994127749), (168, 0.07122079610428492), (169, 0.14329093375442703), (170, 0.11022770827114736), (171, 0.1052716799217209), (172, 0.07182709451092886), (173, 0.0), (174, 0.11668253657629789), (175, 0.06894262847796075), (176, 0.10088413854918182), (177, 0.041010918706575), (178, 0.04963752701010973), (179, 0.06446560482129805), (180, 0.1231904163802055), (181, 0.11650120640263953), (182, 0.060923221577876926), (183, 0.11099799997620029), (184, 0.04943772365751351), (185, 0.03833544232009452), (186, 0.08042630061143892), (187, 0.1518804365242934), (188, 0.11240116367425598), (189, 0.04554137213688119), (190, 0.07860693322222291), (191, 0.017413712286997975), (192, 0.11587629900898669), (193, 0.08554420308430749), (194, 0.015660300586223568), (195, 0.15622907096301292), (196, 0.03684100259260613), (197, 0.09277864552551111), (198, 0.12375667854443959), (199, 0.07653734045338233), (200, 0.07082225272439407), (201, 0.04734502961308536), (202, 0.12896785845231182), (203, 0.01226882241932499), (204, 0.0643270285561574), (205, 0.08336778795462589), (206, 0.14261047036026098), (207, 0.048661415598902066), (208, 0.012054210667119999), (209, 0.05903653777654522), (210, 0.14813906764071344), (211, 0.029609684651872536), (212, 0.09912831618505266), (213, 0.18831231913051774), (214, 0.02059155525528434), (215, 0.09727231122527165), (216, 0.10767020276766495), (217, 0.0), (218, 0.1259238126528593), (219, 0.03833551487945576), (220, 0.11465798203581715), (221, 0.04370665506474602), (222, 0.1255375931295843), (223, 0.17525366667348902), (224, 0.03058353107329694), (225, 0.12579680970061355), (226, 0.11506388990630267), (227, 0.0818999466312961), (228, 0.15152437721117068), (229, 0.07084917241748578), (230, 0.14639737111027767), (231, 0.10272053763305805), (232, 0.08165344973877377), (233, 0.12121113073945411), (234, 0.05214577666096862), (235, 0.012583054796436703), (236, 0.0735924687477395), (237, 0.05540812090233836), (238, 0.013411663395364298), (239, 0.062180463200736794), (240, 0.01987154176522415), (241, 0.06039318011057383), (242, 0.12281758298735401), (243, 0.0439470637695938), (244, 0.03982057675958307), (245, 0.18813320849361598), (246, 0.11479597667249192), (247, 0.1370862181525638), (248, 0.2656266958505299), (249, 0.08610291373630223), (250, 0.06811316703492078), (251, 0.0), (252, 0.08556154736979642), (253, 0.19864852492927568), (254, 0.06552412213330731), (255, 0.09202405496319302), (256, 0.08365700912381145), (257, 0.13743916784310173), (258, 0.06589733217316206), (259, 0.0), (260, 0.015801377081159043), (261, 0.09123517829747925), (262, 0.13527915856541622), (263, 0.059465950337840065), (264, 0.036817462267692946), (265, 0.09385422318243014), (266, 0.048705803603304565), (267, 0.009504140791015015), (268, 0.12028362485516932), (269, 0.07549489762581371), (270, 0.18366143490200826), (271, 0.04042406457337931), (272, 0.02326599564527038), (273, 0.07872734935774243), (274, 0.08952246878513963), (275, 0.048854069805052594), (276, 0.09407210102402247), (277, 0.16429518847711247), (278, 0.10224948446731909), (279, 0.013293559447736695), (280, 0.1652030014464934), (281, 0.017683889915861246), (282, 0.0546246728397563), (283, 0.17270090175512917), (284, 0.020988973452075003), (285, 0.021657133216365622), (286, 0.05691367855765348), (287, 0.05104643941662735), (288, 0.06474769216682998), (289, 0.05431902269189479), (290, 0.0), (291, 0.09907807964860506), (292, 0.1033521011729625), (293, 0.04674884313476146), (294, 0.10595055914401262), (295, 0.04001976548781124), (296, 0.11960757364118658), (297, 0.21144724957768682), (298, 0.01311077769144485), (299, 0.09918348215063164), (300, 0.10055241222747541), (301, 0.010506268312009945), (302, 0.09577087905498938), (303, 0.01819556325447909), (304, 0.09264282959303274), (305, 0.013634060804546735), (306, 0.13291751236980615), (307, 0.020867397429979777), (308, 0.038395685393687394), (309, 0.09350772241342471), (310, 0.0726364271258225), (311, 0.012466017185115252), (312, 0.10951612761661696), (313, 0.12855995386590782), (314, 0.03595168266845759), (315, 0.09767020513138283), (316, 0.08286833093720626), (317, 0.2270935804516233), (318, 0.1496152422294343), (319, 0.05551352703165933), (320, 0.06803337858575956), (321, 0.1543301620317662), (322, 0.12246686820471626), (323, 0.09556295043437016), (324, 0.1743663386839284), (325, 0.039473481787348705), (326, 0.1297365072118262), (327, 0.1747911055236956), (328, 0.03153434095669563), (329, 0.04951396487981839), (330, 0.014093212904036426), (331, 0.08356161543775781), (332, 0.09254892460378907), (333, 0.18484442819706748), (334, 0.017174772566638494), (335, 0.04831433543311147), (336, 0.14557182141459604), (337, 0.03848559833843578), (338, 0.05321574219641341), (339, 0.0), (340, 0.040102862702511156), (341, 0.12568521552961057), (342, 0.0), (343, 0.06323086246473802), (344, 0.10747030708285976), (345, 0.104277490126222), (346, 0.13383105833972514), (347, 0.041098735284873865), (348, 0.0539412085649487), (349, 0.012965621258152654), (350, 0.0), (351, 0.0804952731931699), (352, 0.15042066459887019), (353, 0.143973034338445), (354, 0.0), (355, 0.08701561893661444), (356, 0.036825000799010146), (357, 0.055304723642321356), (358, 0.03372218631580724), (359, 0.12121555791443377), (360, 0.032474061253223316), (361, 0.01880317019675197), (362, 0.0), (363, 0.0842652564685088), (364, 0.10550982824099948), (365, 0.047892350022782755), (366, 0.01098061726184657), (367, 0.04643693157714958), (368, 0.12367641599429513), (369, 0.27693626678058536), (370, 0.07031868798542344), (371, 0.009970809299061894), (372, 0.08333859130491056), (373, 0.14505365422102623), (374, 0.026119521961313372), (375, 0.061215543097865796), (376, 0.06323531895279141), (377, 0.027495409704416555), (378, 0.08301653053184267), (379, 0.18444414935484052), (380, 0.12411728956628616), (381, 0.033517937933475794), (382, 0.048203067199458494), (383, 0.01054370197188545), (384, 0.0842127619053441), (385, 0.08360633194314798), (386, 0.09475003453551539), (387, 0.024383231749817443), (388, 0.1272221296354393), (389, 0.05367094681192845), (390, 0.13067824982929288), (391, 0.08316936647606632), (392, 0.0876379918964805), (393, 0.03160266068568434), (394, 0.13191504424995082), (395, 0.1279916126213101), (396, 0.07566572740174818), (397, 0.01779132488415935), (398, 0.020453991150955683), (399, 0.1116491825725628), (400, 0.04090545208230008), (401, 0.10837856604751765), (402, 0.02726810554052223), (403, 0.12095921942052325), (404, 0.09442370535999828), (405, 0.09198624164579876), (406, 0.0352338430609635), (407, 0.07395621058765846), (408, 0.14604111228165836), (409, 0.02644443040065626), (410, 0.10405207907832477), (411, 1.0000000000000002), (412, 0.0378121038734847), (413, 0.06675824685337821), (414, 0.0753471880063226), (415, 0.020006995501607373), (416, 0.0), (417, 0.17614978294026445), (418, 0.12556699546698305), (419, 0.08445911695582944), (420, 0.08761123297550474), (421, 0.018275224792189543), (422, 0.0398334806238609), (423, 0.17380533986838667), (424, 0.09933530841265001), (425, 0.01672371995301291), (426, 0.0874106283390825), (427, 0.03703290511296678), (428, 0.05727043135462452), (429, 0.05465502239904406), (430, 0.04361705596885536), (431, 0.26304469770148126), (432, 0.13029711097468832), (433, 0.039845037591140595), (434, 0.016944311347989162), (435, 0.11980811328443165), (436, 0.06223784752978703), (437, 0.09967734224458029), (438, 0.029019995256029975), (439, 0.05763832363711394), (440, 0.007466268181656544), (441, 0.07985239975645025), (442, 0.15371613396626221), (443, 0.0), (444, 0.041271574968504955), (445, 0.09146654933799109), (446, 0.036374327789944316), (447, 0.11134712604416612), (448, 0.022493679573303026), (449, 0.1229120785786822), (450, 0.08926114346779433), (451, 0.1326922937047727), (452, 0.11222865430674084), (453, 0.07256955836494355), (454, 0.04473148294785583), (455, 0.031901891278479505), (456, 0.11598809942069574), (457, 0.1364656113245081), (458, 0.08882336773742645), (459, 0.042345100852245146), (460, 0.12258168134004513), (461, 0.02676805543759417), (462, 0.07221916040199751), (463, 0.06974129898217744), (464, 0.024102374522752656), (465, 0.052456458844482065), (466, 0.10435766450113501), (467, 0.029490824457517772), (468, 0.07957499797595802), (469, 0.028790868302603682), (470, 0.055652842728418805), (471, 0.035335277856001275), (472, 0.12161860329850287), (473, 0.12956312894152655), (474, 0.02202390780671323), (475, 0.11596940792517926), (476, 0.11170033952570183), (477, 0.08974454679549912), (478, 0.0), (479, 0.10019598302362248), (480, 0.0609929168279857), (481, 0.027025210753275013), (482, 0.08265587666856167), (483, 0.04936504588002717), (484, 0.010572550098696986), (485, 0.18260528628836056), (486, 0.21372228153997963), (487, 0.09800946091921484), (488, 0.08972880679940325), (489, 0.0800111389518654), (490, 0.16912370489801448), (491, 0.06931488750388147), (492, 0.07083720421147939), (493, 0.020493344057394867), (494, 0.09519651307862781), (495, 0.1676007698235621), (496, 0.1246337764101631), (497, 0.03923804682267085), (498, 0.10315294598117813), (499, 0.13822744924261526), (500, 0.04232414239139992), (501, 0.06788622677361417), (502, 0.03660430238590538), (503, 0.12358751436205051), (504, 0.04209040635191158), (505, 0.02490719622252353), (506, 0.04029609439760871), (507, 0.04464792824371022), (508, 0.058460328828968254), (509, 0.11184446863543199), (510, 0.040501133921208105), (511, 0.023877515902103824), (512, 0.13691434296153124), (513, 0.07779669950254622), (514, 0.046226642529138454), (515, 0.011337281286915572), (516, 0.07794512480275653), (517, 0.0872051143513404), (518, 0.08123136287946547), (519, 0.016856552719268104), (520, 0.051938462273680756), (521, 0.09313876733137048), (522, 0.12569498930405215), (523, 0.19658038536980438), (524, 0.08889802419787386), (525, 0.09537203656320159), (526, 0.06506612575799467), (527, 0.08329529440828998), (528, 0.021371723696059112), (529, 0.013314653222789167), (530, 0.029952850916794803), (531, 0.05557247001373481), (532, 0.14158525134053263), (533, 0.02417377537199778), (534, 0.11560710166968852), (535, 0.057014667552768454), (536, 0.19351431261610086), (537, 0.05265631863964452), (538, 0.11926973999683711), (539, 0.10052356666472213), (540, 0.07567300890549813), (541, 0.06156148138462708), (542, 0.012599419485942271), (543, 0.01662138805547402), (544, 0.07765173324370657), (545, 0.08995697155082454), (546, 0.0), (547, 0.0), (548, 0.04955546212820956), (549, 0.04838397497070557), (550, 0.03827778445797443), (551, 0.15117053707509592), (552, 0.0), (553, 0.06613276546298275), (554, 0.22553535810898617), (555, 0.0), (556, 0.09317942194366068), (557, 0.04335801958218082), (558, 0.07239921254263543), (559, 0.023565883022938834), (560, 0.03182003954273003), (561, 0.02076281693906712), (562, 0.10248994190195607), (563, 0.06362194196630074), (564, 0.146275877366482), (565, 0.05478421878707904), (566, 0.1887234450407942), (567, 0.05843045069409301), (568, 0.22714454195338774), (569, 0.05720806520552991), (570, 0.07379726842896125), (571, 0.09593797406466145), (572, 0.04591092066482384), (573, 0.0169824132298104), (574, 0.15374645541363413), (575, 0.016570439664390098), (576, 0.04608445938422688), (577, 0.0), (578, 0.06185722993399096), (579, 0.1282018856677186), (580, 0.014966340398286268), (581, 0.057794342948754115), (582, 0.0683754381745147), (583, 0.12866385093272695), (584, 0.04027333949776479), (585, 0.030064583427124696), (586, 0.05785211930201006), (587, 0.07719598000306238), (588, 0.008994221737609765), (589, 0.05813851214302211), (590, 0.07898804315639411), (591, 0.10872891581664595), (592, 0.09522254410389389), (593, 0.03831658321463691), (594, 0.15387916008649524), (595, 0.07138214809882062), (596, 0.008595086346752904), (597, 0.06903480784000629), (598, 0.0), (599, 0.041605536156822796), (600, 0.0), (601, 0.17046364703319056), (602, 0.10360350218804368), (603, 0.04952316242016769), (604, 0.01130303214962205), (605, 0.3298822504790986), (606, 0.09914651690300882), (607, 0.040682734121756825), (608, 0.144489684791409), (609, 0.01416951509964573), (610, 0.13026714807106776), (611, 0.041122980474147995), (612, 0.0), (613, 0.11504936222089512), (614, 0.08111491219514344), (615, 0.012312897199620683), (616, 0.038748814187502124), (617, 0.10603078815909805), (618, 0.07571967747438371), (619, 0.011168587298750931), (620, 0.0902393654258628), (621, 0.05559618157367264), (622, 0.08671321595315284), (623, 0.026675885811771695), (624, 0.05517681991758319), (625, 0.056560509717403146), (626, 0.13886526155049592), (627, 0.01571573440435251), (628, 0.06414972223480493), (629, 0.02006555716790005), (630, 0.033578370507437436), (631, 0.028014064127850027), (632, 0.21128430662156172), (633, 0.030522661019189597), (634, 0.19550506479242952), (635, 0.03352611035961338), (636, 0.09106431068765514), (637, 0.04802264959763519), (638, 0.09083607663976886), (639, 0.04013557109786815), (640, 0.11659597353997123), (641, 0.12317459988785803), (642, 0.025889499463752623), (643, 0.1519262641915973), (644, 0.014375233662129965), (645, 0.05213042628479446), (646, 0.11706398173517223), (647, 0.10175811956741908), (648, 0.0), (649, 0.05653647808744347), (650, 0.18759775685447885), (651, 0.03488741817334086), (652, 0.13180716032295994), (653, 0.019487596672648995), (654, 0.033057684690416866), (655, 0.14111673102379788), (656, 0.01191955619989145), (657, 0.030074172879601874), (658, 0.07461399386087585), (659, 0.12746519416207713), (660, 0.04691552199367817), (661, 0.08249965133996315), (662, 0.1420912527589575), (663, 0.11213556127210628), (664, 0.14328092486959276), (665, 0.021138809482314384), (666, 0.19328439753351573), (667, 0.14573429034311425), (668, 0.11367289415623937), (669, 0.0), (670, 0.15471156174870998), (671, 0.01216036936556246), (672, 0.03128830202979818), (673, 0.0914815152037346), (674, 0.21921940568044218), (675, 0.043603281248068324), (676, 0.12404677398641586), (677, 0.054165698759417895), (678, 0.09195153023878536), (679, 0.07308126768552053), (680, 0.15634330524367232), (681, 0.07447343804611303), (682, 0.09071210658285758), (683, 0.048186920383122264), (684, 0.056466338914621876), (685, 0.08656797451405317), (686, 0.16848666307900567), (687, 0.0667127939607391), (688, 0.19162072998186236), (689, 0.0868039566108931), (690, 0.08727660357785436), (691, 0.04548108735790039), (692, 0.06585356572038426), (693, 0.14249509770435975), (694, 0.1376400428983074), (695, 0.028538788871316424), (696, 0.31631636004687935), (697, 0.10170898699877134), (698, 0.0), (699, 0.048653284201554944), (700, 0.042226464110085085), (701, 0.05629429971370628), (702, 0.0), (703, 0.07061709436125123), (704, 0.13952881251629276), (705, 0.0666464125493741), (706, 0.10738218688435382), (707, 0.15955198625600717), (708, 0.01027635441367353), (709, 0.11778711589082529), (710, 0.08877910764975826), (711, 0.03269216656275177), (712, 0.05862162161931076), (713, 0.19095451163871346), (714, 0.0), (715, 0.021176534318625706), (716, 0.0), (717, 0.11674153707481758), (718, 0.09363720028054975), (719, 0.011306308910173422), (720, 0.06938199554488575), (721, 0.03635832535737313), (722, 0.045102759208327486), (723, 0.04041302026690146), (724, 0.042219433126143305), (725, 0.08002244717756665), (726, 0.021204829130292466), (727, 0.1457857188222732), (728, 0.14455784845554873), (729, 0.07885150709171698), (730, 0.06999656287175798), (731, 0.05314303626595729), (732, 0.09774969742923514), (733, 0.11016446531350763), (734, 0.03593909952953752), (735, 0.0645648643390562), (736, 0.07424325565348178), (737, 0.04259647053183604), (738, 0.08390794236786714), (739, 0.03251028099246181), (740, 0.1467745522289862), (741, 0.08805117745456072), (742, 0.16136823415840873), (743, 0.08423844450354112), (744, 0.10090299154892629), (745, 0.08827992743253166), (746, 0.04192986654419401), (747, 0.0), (748, 0.06800304732277088), (749, 0.10863352503826404), (750, 0.011630004057096988), (751, 0.0), (752, 0.11169089387786735), (753, 0.03852914901522505), (754, 0.05351812058250252), (755, 0.05022438300301679), (756, 0.08529870941597972), (757, 0.04671421730089629), (758, 0.022914014780538512), (759, 0.09342615761561551), (760, 0.07928245789212993), (761, 0.181406303249452), (762, 0.06783143265968083), (763, 0.04213285146926219), (764, 0.052763844259198965), (765, 0.011779139732423543), (766, 0.11937358799878789), (767, 0.09052222495894827), (768, 0.1305383463116589), (769, 0.03288700733494832), (770, 0.0), (771, 0.11676195877156435), (772, 0.09525163999165727), (773, 0.011676161746174226), (774, 0.14569156285667328), (775, 0.08925245497094537), (776, 0.06275420530425752), (777, 0.03117293652079245), (778, 0.10514677816750671), (779, 0.047232757417267374), (780, 0.16784186919106409), (781, 0.045104657694021735), (782, 0.35566000807890624), (783, 0.08990518677713864), (784, 0.011204486218089546), (785, 0.028730756318837), (786, 0.062197531792044736), (787, 0.2788886454051722), (788, 0.062448062259205066), (789, 0.10323298395718197), (790, 0.07299616716511144), (791, 0.10140236511575926), (792, 0.11331501218006265), (793, 0.025063259981934007), (794, 0.12530362421591032), (795, 0.0), (796, 0.10712455631719499), (797, 0.04033539822117958), (798, 0.10063081841736787), (799, 0.03607905902346474), (800, 0.09260290863146363), (801, 0.0816560000509642), (802, 0.12729142080466932), (803, 0.18550870578635922), (804, 0.09810757294494316), (805, 0.1276875732722229), (806, 0.03511936466864074), (807, 0.11483618276755557), (808, 0.039923257903039036), (809, 0.11248853441451606), (810, 0.052158842697472806), (811, 0.11112660337589475), (812, 0.17878608035716978), (813, 0.0431240705273381), (814, 0.10438079254228648), (815, 0.07360865876896955), (816, 0.03233821324862602), (817, 0.014823267691808587), (818, 0.10261884392323177), (819, 0.015902938989504633), (820, 0.05316898278645821), (821, 0.07113350980718532), (822, 0.028114832328535767), (823, 0.14028348406904526), (824, 0.10159179030442952), (825, 0.126160694431837), (826, 0.3143848820854549), (827, 0.14088678751831038), (828, 0.00864897665347707), (829, 0.050254004306477855), (830, 0.0838282920049625), (831, 0.13707777107795074), (832, 0.10479100721266504), (833, 0.05117548330475293), (834, 0.09093372319431597), (835, 0.013998118670734855), (836, 0.10719435770185018), (837, 0.09986382499437055), (838, 0.0871499873749092), (839, 0.06645683509680941), (840, 0.01484482970239777), (841, 0.04531083505762636), (842, 0.06852199188347814), (843, 0.07087132690384398), (844, 0.07643107081083408), (845, 0.02898747900775961), (846, 0.011247066629777949), (847, 0.04428277203841646), (848, 0.08745779199996338), (849, 0.06670851951079007), (850, 0.09968248670611607), (851, 0.04898483342663225), (852, 0.02777012148777537), (853, 0.014731620639708376), (854, 0.061238160746880536), (855, 0.06102592326073212), (856, 0.15190333100287035), (857, 0.015984399854245206), (858, 0.0), (859, 0.016650198058298447), (860, 0.0346737601033036), (861, 0.011422412837677918), (862, 0.11217507094291197), (863, 0.05089672298142216), (864, 0.01710239051060341), (865, 0.0731993681854917), (866, 0.038811984232500915), (867, 0.10396184990730736), (868, 0.07518105925138305), (869, 0.14123074512547526), (870, 0.038855695448153246), (871, 0.0), (872, 0.02403220374168541), (873, 0.0), (874, 0.017386413515896183), (875, 0.04670833450738846), (876, 0.291063338826029), (877, 0.07485639280834179), (878, 0.13867824003253393), (879, 0.10203110082336576), (880, 0.11090028140734295), (881, 0.12295455767633438), (882, 0.011612840643289166), (883, 0.07452658866292304), (884, 0.03298484693950047), (885, 0.0), (886, 0.0452034435703128), (887, 0.04546627347343529), (888, 0.04457995276492381), (889, 0.03121004205259137), (890, 0.016166641428846284), (891, 0.1482660884402518), (892, 0.0543060511590677), (893, 0.08089707777708677), (894, 0.038698640020456074), (895, 0.04166330907385371), (896, 0.05437148426360165), (897, 0.03683339384411964), (898, 0.052730086977279045), (899, 0.127463314667201), (900, 0.04521583933348436), (901, 0.07916754551971052), (902, 0.1303684114466284), (903, 0.07011125218039127), (904, 0.012257514920126868), (905, 0.1799532052548694), (906, 0.0), (907, 0.10476614268738732), (908, 0.08643627901274648), (909, 0.1870877028919432), (910, 0.01596388296653764), (911, 0.1184801131904212), (912, 0.11043454022153767), (913, 0.01225773084766504), (914, 0.03391686300073024), (915, 0.09198692096498223), (916, 0.022036094714316296), (917, 0.04272835880045884), (918, 0.07533656633432306), (919, 0.22243028871762924), (920, 0.07799226633097289), (921, 0.020176505974548467), (922, 0.02200391837504144), (923, 0.012323706661195803), (924, 0.16285707069767852), (925, 0.15695046780363814), (926, 0.12330347649846582), (927, 0.14402577159331378), (928, 0.04576163730093902), (929, 0.15445837547257715), (930, 0.040957603640331006), (931, 0.01708341667363306), (932, 0.0), (933, 0.05736313178415811), (934, 0.029850448934068123), (935, 0.01379432092271399), (936, 0.08725788399430591), (937, 0.2097403790205121), (938, 0.05179397080781176), (939, 0.2313328955193908), (940, 0.022021074002816356), (941, 0.03179516258574627), (942, 0.028318673364322276), (943, 0.02735948287068402), (944, 0.05273238791926327), (945, 0.017483231047827678), (946, 0.08157162466917611), (947, 0.11400943124824098), (948, 0.024618480534223774), (949, 0.01378718322772411), (950, 0.04733440210771916), (951, 0.016018191553238335), (952, 0.12773314725487334), (953, 0.14267372599128292), (954, 0.0), (955, 0.2967703695623185), (956, 0.20897677510210394), (957, 0.038805771532355884), (958, 0.14283991193000448), (959, 0.051873792139752364), (960, 0.05955056102163071), (961, 0.008177128151182692), (962, 0.16979893440476768), (963, 0.12364502876361644), (964, 0.048044066546497684), (965, 0.10246627131568162), (966, 0.028417659388128045), (967, 0.05853521467016543), (968, 0.011262824870949602), (969, 0.03506989168558541), (970, 0.06148576853745972), (971, 0.00942847895855413), (972, 0.14603935122780257), (973, 0.014215623162489942), (974, 0.12568297792916183), (975, 0.022850600074498024), (976, 0.09696093890270974), (977, 0.014232661538923691), (978, 0.03985030334417768), (979, 0.16572370970637348), (980, 0.07255544605238322), (981, 0.33101095437774347), (982, 0.08084337594706889), (983, 0.3572582942842372), (984, 0.0), (985, 0.15518390083763609), (986, 0.27242654749936307), (987, 0.25553267997226403), (988, 0.07032050217036911), (989, 0.15969924529960067), (990, 0.009487173752841579), (991, 0.055210651517909326), (992, 0.20433405820374662), (993, 0.16336487553361023), (994, 0.05911472460874833), (995, 0.01200173598229924), (996, 0.18171143935053657), (997, 0.08134877122226836), (998, 0.07114237111515147), (999, 0.04057253486389607), (1000, 0.09479550348817485), (1001, 0.03850012296089062), (1002, 0.09726258309675506)]\n"
     ]
    }
   ],
   "source": [
    "#Getting list of similar movies score\n",
    "similarity_score=list(enumerate(similarity[index_of_the_food]))\n",
    "#here list is to convert into list as can then acccess any element easily\n",
    "#enumerate is to run a loop through all movies of that similarity index as similarity has list for every movie by it shows list of that specific index\n",
    "print(similarity_score)"
   ]
  },
  {
   "cell_type": "code",
   "execution_count": 37,
   "id": "81a12f69",
   "metadata": {},
   "outputs": [
    {
     "data": {
      "text/plain": [
       "1003"
      ]
     },
     "execution_count": 37,
     "metadata": {},
     "output_type": "execute_result"
    }
   ],
   "source": [
    "len(similarity_score)"
   ]
  },
  {
   "cell_type": "code",
   "execution_count": 38,
   "id": "d88c7c65",
   "metadata": {},
   "outputs": [
    {
     "name": "stdout",
     "output_type": "stream",
     "text": [
      "[(411, 1.0000000000000002), (983, 0.3572582942842372), (782, 0.35566000807890624), (981, 0.33101095437774347), (605, 0.3298822504790986), (696, 0.31631636004687935), (826, 0.3143848820854549), (955, 0.2967703695623185), (876, 0.291063338826029), (787, 0.2788886454051722), (369, 0.27693626678058536), (986, 0.27242654749936307), (248, 0.2656266958505299), (431, 0.26304469770148126), (102, 0.25607477515606697), (987, 0.25553267997226403), (939, 0.2313328955193908), (568, 0.22714454195338774), (317, 0.2270935804516233), (554, 0.22553535810898617), (919, 0.22243028871762924), (674, 0.21921940568044218), (486, 0.21372228153997963), (297, 0.21144724957768682), (632, 0.21128430662156172), (937, 0.2097403790205121), (956, 0.20897677510210394), (992, 0.20433405820374662), (253, 0.19864852492927568), (523, 0.19658038536980438), (634, 0.19550506479242952), (131, 0.19362155050644664), (536, 0.19351431261610086), (666, 0.19328439753351573), (688, 0.19162072998186236), (713, 0.19095451163871346), (56, 0.19083192070365745), (54, 0.18936102956271383), (28, 0.18923319014712736), (566, 0.1887234450407942), (213, 0.18831231913051774), (245, 0.18813320849361598), (650, 0.18759775685447885), (909, 0.1870877028919432), (803, 0.18550870578635922), (333, 0.18484442819706748), (379, 0.18444414935484052), (270, 0.18366143490200826), (50, 0.1829187119823928), (485, 0.18260528628836056), (996, 0.18171143935053657), (761, 0.181406303249452), (905, 0.1799532052548694), (812, 0.17878608035716978), (46, 0.17842500748600937), (417, 0.17614978294026445), (223, 0.17525366667348902), (88, 0.17493445965464965), (327, 0.1747911055236956), (324, 0.1743663386839284), (423, 0.17380533986838667), (283, 0.17270090175512917), (601, 0.17046364703319056), (45, 0.1699321551297499), (962, 0.16979893440476768), (490, 0.16912370489801448), (109, 0.16873464044456102), (686, 0.16848666307900567), (70, 0.1679264432573366), (780, 0.16784186919106409), (495, 0.1676007698235621), (40, 0.16637410640780015), (126, 0.16602229248337463), (979, 0.16572370970637348), (280, 0.1652030014464934), (69, 0.16488265160854648), (277, 0.16429518847711247), (130, 0.164156126060487), (993, 0.16336487553361023), (924, 0.16285707069767852), (83, 0.1620926189779827), (742, 0.16136823415840873), (74, 0.1609547141920108), (79, 0.16050409470398042), (989, 0.15969924529960067), (707, 0.15955198625600717), (97, 0.1591653902227605), (925, 0.15695046780363814), (680, 0.15634330524367232), (195, 0.15622907096301292), (163, 0.1552645070918863), (985, 0.15518390083763609), (670, 0.15471156174870998), (929, 0.15445837547257715), (321, 0.1543301620317662), (594, 0.15387916008649524), (574, 0.15374645541363413), (442, 0.15371613396626221), (145, 0.15367966411312295), (85, 0.15298502665351157), (643, 0.1519262641915973), (856, 0.15190333100287035), (187, 0.1518804365242934), (228, 0.15152437721117068), (4, 0.15148469289930605), (551, 0.15117053707509592), (352, 0.15042066459887019), (152, 0.15014020047865953), (318, 0.1496152422294343), (891, 0.1482660884402518), (210, 0.14813906764071344), (740, 0.1467745522289862), (230, 0.14639737111027767), (564, 0.146275877366482), (408, 0.14604111228165836), (972, 0.14603935122780257), (727, 0.1457857188222732), (667, 0.14573429034311425), (774, 0.14569156285667328), (336, 0.14557182141459604), (373, 0.14505365422102623), (728, 0.14455784845554873), (608, 0.144489684791409), (927, 0.14402577159331378), (353, 0.143973034338445), (169, 0.14329093375442703), (664, 0.14328092486959276), (30, 0.1430661055973718), (958, 0.14283991193000448), (953, 0.14267372599128292), (206, 0.14261047036026098), (693, 0.14249509770435975), (127, 0.14228863750992066), (662, 0.1420912527589575), (532, 0.14158525134053263), (869, 0.14123074512547526), (655, 0.14111673102379788), (827, 0.14088678751831038), (823, 0.14028348406904526), (105, 0.1401169400125333), (704, 0.13952881251629276), (626, 0.13886526155049592), (878, 0.13867824003253393), (499, 0.13822744924261526), (150, 0.13817900854920112), (57, 0.13771186534824506), (694, 0.1376400428983074), (257, 0.13743916784310173), (247, 0.1370862181525638), (831, 0.13707777107795074), (512, 0.13691434296153124), (8, 0.13667777386612476), (457, 0.1364656113245081), (262, 0.13527915856541622), (346, 0.13383105833972514), (306, 0.13291751236980615), (451, 0.1326922937047727), (44, 0.13250833541086815), (42, 0.13209317145544794), (394, 0.13191504424995082), (652, 0.13180716032295994), (39, 0.1308980949617588), (390, 0.13067824982929288), (768, 0.1305383463116589), (902, 0.1303684114466284), (432, 0.13029711097468832), (610, 0.13026714807106776), (326, 0.1297365072118262), (473, 0.12956312894152655), (110, 0.12901022412495833), (202, 0.12896785845231182), (583, 0.12866385093272695), (313, 0.12855995386590782), (579, 0.1282018856677186), (395, 0.1279916126213101), (952, 0.12773314725487334), (43, 0.12771761019644462), (805, 0.1276875732722229), (659, 0.12746519416207713), (899, 0.127463314667201), (802, 0.12729142080466932), (388, 0.1272221296354393), (66, 0.1271292606715042), (825, 0.126160694431837), (218, 0.1259238126528593), (225, 0.12579680970061355), (522, 0.12569498930405215), (341, 0.12568521552961057), (974, 0.12568297792916183), (418, 0.12556699546698305), (222, 0.1255375931295843), (794, 0.12530362421591032), (165, 0.1253012822411788), (58, 0.12489573392121534), (151, 0.12463660341341103), (496, 0.1246337764101631), (380, 0.12411728956628616), (676, 0.12404677398641586), (198, 0.12375667854443959), (368, 0.12367641599429513), (963, 0.12364502876361644), (503, 0.12358751436205051), (926, 0.12330347649846582), (180, 0.1231904163802055), (641, 0.12317459988785803), (881, 0.12295455767633438), (449, 0.1229120785786822), (242, 0.12281758298735401), (460, 0.12258168134004513), (322, 0.12246686820471626), (14, 0.1220131835294326), (111, 0.12162383473240071), (472, 0.12161860329850287), (359, 0.12121555791443377), (233, 0.12121113073945411), (403, 0.12095921942052325), (268, 0.12028362485516932), (435, 0.11980811328443165), (296, 0.11960757364118658), (16, 0.11948623896099625), (766, 0.11937358799878789), (538, 0.11926973999683711), (153, 0.11870522250471226), (911, 0.1184801131904212), (35, 0.11790216594156479), (709, 0.11778711589082529), (646, 0.11706398173517223), (771, 0.11676195877156435), (717, 0.11674153707481758), (174, 0.11668253657629789), (640, 0.11659597353997123), (181, 0.11650120640263953), (456, 0.11598809942069574), (475, 0.11596940792517926), (192, 0.11587629900898669), (534, 0.11560710166968852), (226, 0.11506388990630267), (613, 0.11504936222089512), (17, 0.11485413896287441), (807, 0.11483618276755557), (246, 0.11479597667249192), (220, 0.11465798203581715), (61, 0.11449861089347221), (80, 0.11411866367412367), (947, 0.11400943124824098), (668, 0.11367289415623937), (148, 0.11361834611559705), (62, 0.11342325568631384), (792, 0.11331501218006265), (134, 0.11316949106410479), (809, 0.11248853441451606), (188, 0.11240116367425598), (452, 0.11222865430674084), (862, 0.11217507094291197), (663, 0.11213556127210628), (509, 0.11184446863543199), (123, 0.11181441032592868), (476, 0.11170033952570183), (752, 0.11169089387786735), (399, 0.1116491825725628), (447, 0.11134712604416612), (65, 0.11126407982582064), (811, 0.11112660337589475), (86, 0.11100229903239511), (183, 0.11099799997620029), (880, 0.11090028140734295), (137, 0.11051936298717459), (912, 0.11043454022153767), (170, 0.11022770827114736), (733, 0.11016446531350763), (155, 0.10989470870832538), (312, 0.10951612761661696), (119, 0.10919073136365895), (591, 0.10872891581664595), (749, 0.10863352503826404), (52, 0.10841676108098766), (401, 0.10837856604751765), (48, 0.10784786352041809), (216, 0.10767020276766495), (344, 0.10747030708285976), (706, 0.10738218688435382), (836, 0.10719435770185018), (796, 0.10712455631719499), (617, 0.10603078815909805), (294, 0.10595055914401262), (156, 0.105570099338723), (364, 0.10550982824099948), (171, 0.1052716799217209), (778, 0.10514677816750671), (832, 0.10479100721266504), (907, 0.10476614268738732), (146, 0.10442430878460082), (814, 0.10438079254228648), (466, 0.10435766450113501), (345, 0.104277490126222), (118, 0.10426649568059511), (410, 0.10405207907832477), (867, 0.10396184990730736), (602, 0.10360350218804368), (292, 0.1033521011729625), (789, 0.10323298395718197), (498, 0.10315294598117813), (81, 0.10313084814574577), (18, 0.10298442807356958), (231, 0.10272053763305805), (818, 0.10261884392323177), (562, 0.10248994190195607), (965, 0.10246627131568162), (278, 0.10224948446731909), (879, 0.10203110082336576), (647, 0.10175811956741908), (697, 0.10170898699877134), (824, 0.10159179030442952), (791, 0.10140236511575926), (744, 0.10090299154892629), (176, 0.10088413854918182), (798, 0.10063081841736787), (300, 0.10055241222747541), (539, 0.10052356666472213), (479, 0.10019598302362248), (837, 0.09986382499437055), (850, 0.09968248670611607), (437, 0.09967734224458029), (424, 0.09933530841265001), (299, 0.09918348215063164), (606, 0.09914651690300882), (212, 0.09912831618505266), (291, 0.09907807964860506), (75, 0.09901476196342715), (60, 0.09861498089810623), (10, 0.09811348831564151), (804, 0.09810757294494316), (487, 0.09800946091921484), (732, 0.09774969742923514), (315, 0.09767020513138283), (215, 0.09727231122527165), (1002, 0.09726258309675506), (976, 0.09696093890270974), (24, 0.09675453211809076), (120, 0.09672766884635535), (121, 0.0963837766253764), (13, 0.09621756751673702), (571, 0.09593797406466145), (302, 0.09577087905498938), (323, 0.09556295043437016), (525, 0.09537203656320159), (21, 0.09527007276081517), (772, 0.09525163999165727), (592, 0.09522254410389389), (494, 0.09519651307862781), (1000, 0.09479550348817485), (386, 0.09475003453551539), (404, 0.09442370535999828), (276, 0.09407210102402247), (265, 0.09385422318243014), (718, 0.09363720028054975), (309, 0.09350772241342471), (759, 0.09342615761561551), (556, 0.09317942194366068), (521, 0.09313876733137048), (197, 0.09277864552551111), (304, 0.09264282959303274), (800, 0.09260290863146363), (332, 0.09254892460378907), (255, 0.09202405496319302), (915, 0.09198692096498223), (405, 0.09198624164579876), (678, 0.09195153023878536), (673, 0.0914815152037346), (445, 0.09146654933799109), (261, 0.09123517829747925), (636, 0.09106431068765514), (834, 0.09093372319431597), (638, 0.09083607663976886), (682, 0.09071210658285758), (767, 0.09052222495894827), (620, 0.0902393654258628), (545, 0.08995697155082454), (783, 0.08990518677713864), (90, 0.08989582457444376), (477, 0.08974454679549912), (488, 0.08972880679940325), (274, 0.08952246878513963), (450, 0.08926114346779433), (775, 0.08925245497094537), (524, 0.08889802419787386), (458, 0.08882336773742645), (710, 0.08877910764975826), (745, 0.08827992743253166), (741, 0.08805117745456072), (19, 0.08783827045465141), (392, 0.0876379918964805), (420, 0.08761123297550474), (848, 0.08745779199996338), (47, 0.08745462934236924), (426, 0.0874106283390825), (690, 0.08727660357785436), (936, 0.08725788399430591), (517, 0.0872051143513404), (838, 0.0871499873749092), (135, 0.08707126031561414), (355, 0.08701561893661444), (689, 0.0868039566108931), (149, 0.0868032932851803), (622, 0.08671321595315284), (685, 0.08656797451405317), (908, 0.08643627901274648), (249, 0.08610291373630223), (252, 0.08556154736979642), (193, 0.08554420308430749), (756, 0.08529870941597972), (5, 0.08523765009874516), (104, 0.08519312818048048), (147, 0.0850610853974756), (49, 0.08447164122944828), (419, 0.08445911695582944), (363, 0.0842652564685088), (743, 0.08423844450354112), (384, 0.0842127619053441), (738, 0.08390794236786714), (830, 0.0838282920049625), (256, 0.08365700912381145), (385, 0.08360633194314798), (331, 0.08356161543775781), (157, 0.08351003162114431), (205, 0.08336778795462589), (372, 0.08333859130491056), (527, 0.08329529440828998), (391, 0.08316936647606632), (378, 0.08301653053184267), (55, 0.08291959204218144), (316, 0.08286833093720626), (482, 0.08265587666856167), (661, 0.08249965133996315), (23, 0.08249181899194132), (227, 0.0818999466312961), (801, 0.0816560000509642), (232, 0.08165344973877377), (946, 0.08157162466917611), (29, 0.08139742422576529), (38, 0.08135963393530611), (997, 0.08134877122226836), (518, 0.08123136287946547), (614, 0.08111491219514344), (893, 0.08089707777708677), (982, 0.08084337594706889), (351, 0.0804952731931699), (186, 0.08042630061143892), (725, 0.08002244717756665), (489, 0.0800111389518654), (441, 0.07985239975645025), (53, 0.07959182040310137), (468, 0.07957499797595802), (117, 0.07936162383577974), (760, 0.07928245789212993), (901, 0.07916754551971052), (590, 0.07898804315639411), (729, 0.07885150709171698), (273, 0.07872734935774243), (190, 0.07860693322222291), (920, 0.07799226633097289), (516, 0.07794512480275653), (513, 0.07779669950254622), (544, 0.07765173324370657), (587, 0.07719598000306238), (106, 0.0768055543268942), (199, 0.07653734045338233), (103, 0.07648463959171525), (844, 0.07643107081083408), (89, 0.07595011112272651), (618, 0.07571967747438371), (540, 0.07567300890549813), (396, 0.07566572740174818), (269, 0.07549489762581371), (414, 0.0753471880063226), (918, 0.07533656633432306), (868, 0.07518105925138305), (877, 0.07485639280834179), (658, 0.07461399386087585), (883, 0.07452658866292304), (681, 0.07447343804611303), (736, 0.07424325565348178), (407, 0.07395621058765846), (570, 0.07379726842896125), (815, 0.07360865876896955), (236, 0.0735924687477395), (98, 0.07358998982147805), (865, 0.0731993681854917), (679, 0.07308126768552053), (790, 0.07299616716511144), (124, 0.07278372696667282), (310, 0.0726364271258225), (453, 0.07256955836494355), (980, 0.07255544605238322), (63, 0.07249838592474542), (558, 0.07239921254263543), (462, 0.07221916040199751), (172, 0.07182709451092886), (595, 0.07138214809882062), (168, 0.07122079610428492), (998, 0.07114237111515147), (821, 0.07113350980718532), (129, 0.07107725873030986), (843, 0.07087132690384398), (229, 0.07084917241748578), (492, 0.07083720421147939), (200, 0.07082225272439407), (703, 0.07061709436125123), (988, 0.07032050217036911), (370, 0.07031868798542344), (114, 0.0702831246023297), (903, 0.07011125218039127), (27, 0.07009711780294442), (730, 0.06999656287175798), (463, 0.06974129898217744), (101, 0.06956853435576102), (720, 0.06938199554488575), (491, 0.06931488750388147), (597, 0.06903480784000629), (175, 0.06894262847796075), (167, 0.06891396994127749), (842, 0.06852199188347814), (582, 0.0683754381745147), (250, 0.06811316703492078), (320, 0.06803337858575956), (748, 0.06800304732277088), (501, 0.06788622677361417), (762, 0.06783143265968083), (31, 0.06741301035043279), (11, 0.0673318469576232), (413, 0.06675824685337821), (687, 0.0667127939607391), (849, 0.06670851951079007), (705, 0.0666464125493741), (839, 0.06645683509680941), (553, 0.06613276546298275), (258, 0.06589733217316206), (692, 0.06585356572038426), (254, 0.06552412213330731), (526, 0.06506612575799467), (288, 0.06474769216682998), (735, 0.0645648643390562), (179, 0.06446560482129805), (204, 0.0643270285561574), (628, 0.06414972223480493), (563, 0.06362194196630074), (122, 0.0634984125082172), (26, 0.06333074386134926), (376, 0.06323531895279141), (343, 0.06323086246473802), (776, 0.06275420530425752), (128, 0.06270723350324217), (158, 0.06265268873082788), (788, 0.062448062259205066), (436, 0.06223784752978703), (786, 0.062197531792044736), (239, 0.062180463200736794), (68, 0.06198648068082532), (578, 0.06185722993399096), (541, 0.06156148138462708), (970, 0.06148576853745972), (854, 0.061238160746880536), (375, 0.061215543097865796), (855, 0.06102592326073212), (480, 0.0609929168279857), (182, 0.060923221577876926), (78, 0.060806195265570524), (159, 0.060422148503186855), (241, 0.06039318011057383), (960, 0.05955056102163071), (263, 0.059465950337840065), (51, 0.05930487477882588), (139, 0.05913458403149813), (994, 0.05911472460874833), (209, 0.05903653777654522), (95, 0.05868902814008288), (712, 0.05862162161931076), (967, 0.05853521467016543), (508, 0.058460328828968254), (567, 0.05843045069409301), (589, 0.05813851214302211), (3, 0.057954325133633106), (586, 0.05785211930201006), (581, 0.057794342948754115), (439, 0.05763832363711394), (73, 0.05741503814436898), (933, 0.05736313178415811), (428, 0.05727043135462452), (569, 0.05720806520552991), (535, 0.057014667552768454), (286, 0.05691367855765348), (625, 0.056560509717403146), (649, 0.05653647808744347), (684, 0.056466338914621876), (701, 0.05629429971370628), (470, 0.055652842728418805), (621, 0.05559618157367264), (531, 0.05557247001373481), (319, 0.05551352703165933), (237, 0.05540812090233836), (357, 0.055304723642321356), (991, 0.055210651517909326), (624, 0.05517681991758319), (565, 0.05478421878707904), (429, 0.05465502239904406), (282, 0.0546246728397563), (896, 0.05437148426360165), (289, 0.05431902269189479), (892, 0.0543060511590677), (677, 0.054165698759417895), (348, 0.0539412085649487), (389, 0.05367094681192845), (754, 0.05351812058250252), (67, 0.053368787043298935), (338, 0.05321574219641341), (820, 0.05316898278645821), (731, 0.05314303626595729), (764, 0.052763844259198965), (944, 0.05273238791926327), (898, 0.052730086977279045), (537, 0.05265631863964452), (465, 0.052456458844482065), (810, 0.052158842697472806), (234, 0.05214577666096862), (645, 0.05213042628479446), (520, 0.051938462273680756), (959, 0.051873792139752364), (938, 0.05179397080781176), (833, 0.05117548330475293), (287, 0.05104643941662735), (863, 0.05089672298142216), (76, 0.050631296406216185), (829, 0.050254004306477855), (755, 0.05022438300301679), (33, 0.04973874999522725), (178, 0.04963752701010973), (143, 0.049602038030235676), (548, 0.04955546212820956), (77, 0.049551826839580426), (603, 0.04952316242016769), (329, 0.04951396487981839), (184, 0.04943772365751351), (483, 0.04936504588002717), (851, 0.04898483342663225), (275, 0.048854069805052594), (266, 0.048705803603304565), (207, 0.048661415598902066), (699, 0.048653284201554944), (549, 0.04838397497070557), (335, 0.04831433543311147), (382, 0.048203067199458494), (683, 0.048186920383122264), (140, 0.048050238317644406), (964, 0.048044066546497684), (637, 0.04802264959763519), (365, 0.047892350022782755), (201, 0.04734502961308536), (950, 0.04733440210771916), (779, 0.047232757417267374), (72, 0.04715855243218175), (166, 0.04694142350636979), (660, 0.04691552199367817), (293, 0.04674884313476146), (757, 0.04671421730089629), (875, 0.04670833450738846), (367, 0.04643693157714958), (514, 0.046226642529138454), (576, 0.04608445938422688), (572, 0.04591092066482384), (928, 0.04576163730093902), (189, 0.04554137213688119), (691, 0.04548108735790039), (887, 0.04546627347343529), (841, 0.04531083505762636), (900, 0.04521583933348436), (886, 0.0452034435703128), (116, 0.04511662458874216), (781, 0.045104657694021735), (722, 0.045102759208327486), (454, 0.04473148294785583), (507, 0.04464792824371022), (888, 0.04457995276492381), (847, 0.04428277203841646), (243, 0.0439470637695938), (221, 0.04370665506474602), (430, 0.04361705596885536), (675, 0.043603281248068324), (557, 0.04335801958218082), (813, 0.0431240705273381), (132, 0.04276835106909642), (917, 0.04272835880045884), (737, 0.04259647053183604), (459, 0.042345100852245146), (500, 0.04232414239139992), (700, 0.042226464110085085), (724, 0.042219433126143305), (763, 0.04213285146926219), (504, 0.04209040635191158), (746, 0.04192986654419401), (895, 0.04166330907385371), (87, 0.041644491654839196), (599, 0.041605536156822796), (444, 0.041271574968504955), (611, 0.041122980474147995), (347, 0.041098735284873865), (177, 0.041010918706575), (930, 0.040957603640331006), (400, 0.04090545208230008), (607, 0.040682734121756825), (999, 0.04057253486389607), (510, 0.040501133921208105), (271, 0.04042406457337931), (723, 0.04041302026690146), (160, 0.040385220899704595), (797, 0.04033539822117958), (506, 0.04029609439760871), (584, 0.04027333949776479), (1, 0.04017414826157209), (639, 0.04013557109786815), (340, 0.040102862702511156), (295, 0.04001976548781124), (808, 0.039923257903039036), (978, 0.03985030334417768), (433, 0.039845037591140595), (422, 0.0398334806238609), (244, 0.03982057675958307), (325, 0.039473481787348705), (497, 0.03923804682267085), (870, 0.038855695448153246), (866, 0.038811984232500915), (957, 0.038805771532355884), (616, 0.038748814187502124), (894, 0.038698640020456074), (753, 0.03852914901522505), (1001, 0.03850012296089062), (337, 0.03848559833843578), (308, 0.038395685393687394), (219, 0.03833551487945576), (185, 0.03833544232009452), (593, 0.03831658321463691), (550, 0.03827778445797443), (91, 0.03815059641506868), (412, 0.0378121038734847), (112, 0.03759839831265149), (427, 0.03703290511296678), (196, 0.03684100259260613), (897, 0.03683339384411964), (356, 0.036825000799010146), (264, 0.036817462267692946), (502, 0.03660430238590538), (446, 0.036374327789944316), (721, 0.03635832535737313), (9, 0.036334310347951315), (71, 0.03618518061565779), (7, 0.03616517623249068), (799, 0.03607905902346474), (314, 0.03595168266845759), (734, 0.03593909952953752), (37, 0.0358454599478268), (164, 0.035382458887722436), (471, 0.035335277856001275), (406, 0.0352338430609635), (94, 0.0352092118508433), (806, 0.03511936466864074), (969, 0.03506989168558541), (651, 0.03488741817334086), (860, 0.0346737601033036), (108, 0.03450121042457148), (914, 0.03391686300073024), (358, 0.03372218631580724), (32, 0.033669005606469515), (630, 0.033578370507437436), (635, 0.03352611035961338), (381, 0.033517937933475794), (654, 0.033057684690416866), (884, 0.03298484693950047), (769, 0.03288700733494832), (711, 0.03269216656275177), (739, 0.03251028099246181), (360, 0.032474061253223316), (816, 0.03233821324862602), (142, 0.031902957555689025), (455, 0.031901891278479505), (560, 0.03182003954273003), (941, 0.03179516258574627), (393, 0.03160266068568434), (328, 0.03153434095669563), (672, 0.03128830202979818), (889, 0.03121004205259137), (777, 0.03117293652079245), (224, 0.03058353107329694), (633, 0.030522661019189597), (138, 0.030329694508496437), (22, 0.030217535529304153), (657, 0.030074172879601874), (585, 0.030064583427124696), (530, 0.029952850916794803), (934, 0.029850448934068123), (25, 0.029788960253265183), (211, 0.029609684651872536), (467, 0.029490824457517772), (438, 0.029019995256029975), (845, 0.02898747900775961), (469, 0.028790868302603682), (785, 0.028730756318837), (695, 0.028538788871316424), (966, 0.028417659388128045), (942, 0.028318673364322276), (822, 0.028114832328535767), (631, 0.028014064127850027), (852, 0.02777012148777537), (36, 0.02771428360199881), (377, 0.027495409704416555), (943, 0.02735948287068402), (402, 0.02726810554052223), (481, 0.027025210753275013), (461, 0.02676805543759417), (623, 0.026675885811771695), (409, 0.02644443040065626), (374, 0.026119521961313372), (642, 0.025889499463752623), (793, 0.025063259981934007), (505, 0.02490719622252353), (948, 0.024618480534223774), (12, 0.024432484171713165), (387, 0.024383231749817443), (533, 0.02417377537199778), (464, 0.024102374522752656), (872, 0.02403220374168541), (511, 0.023877515902103824), (559, 0.023565883022938834), (125, 0.023444489408021123), (272, 0.02326599564527038), (92, 0.023024577907292412), (758, 0.022914014780538512), (975, 0.022850600074498024), (448, 0.022493679573303026), (15, 0.02230720662813017), (916, 0.022036094714316296), (474, 0.02202390780671323), (940, 0.022021074002816356), (922, 0.02200391837504144), (285, 0.021657133216365622), (528, 0.021371723696059112), (726, 0.021204829130292466), (715, 0.021176534318625706), (84, 0.021159973073939145), (665, 0.021138809482314384), (284, 0.020988973452075003), (162, 0.020921085905510187), (307, 0.020867397429979777), (561, 0.02076281693906712), (214, 0.02059155525528434), (493, 0.020493344057394867), (398, 0.020453991150955683), (921, 0.020176505974548467), (629, 0.02006555716790005), (415, 0.020006995501607373), (240, 0.01987154176522415), (653, 0.019487596672648995), (361, 0.01880317019675197), (421, 0.018275224792189543), (303, 0.01819556325447909), (397, 0.01779132488415935), (281, 0.017683889915861246), (945, 0.017483231047827678), (191, 0.017413712286997975), (874, 0.017386413515896183), (334, 0.017174772566638494), (864, 0.01710239051060341), (141, 0.017084764342199604), (931, 0.01708341667363306), (573, 0.0169824132298104), (434, 0.016944311347989162), (519, 0.016856552719268104), (425, 0.01672371995301291), (93, 0.01668213669613067), (859, 0.016650198058298447), (543, 0.01662138805547402), (575, 0.016570439664390098), (115, 0.016183297470378288), (890, 0.016166641428846284), (951, 0.016018191553238335), (857, 0.015984399854245206), (910, 0.01596388296653764), (819, 0.015902938989504633), (260, 0.015801377081159043), (627, 0.01571573440435251), (133, 0.0156720566392583), (194, 0.015660300586223568), (580, 0.014966340398286268), (840, 0.01484482970239777), (817, 0.014823267691808587), (853, 0.014731620639708376), (6, 0.014376806236381922), (644, 0.014375233662129965), (977, 0.014232661538923691), (973, 0.014215623162489942), (609, 0.01416951509964573), (330, 0.014093212904036426), (835, 0.013998118670734855), (935, 0.01379432092271399), (949, 0.01378718322772411), (305, 0.013634060804546735), (41, 0.013468676232261816), (238, 0.013411663395364298), (529, 0.013314653222789167), (279, 0.013293559447736695), (298, 0.01311077769144485), (349, 0.012965621258152654), (542, 0.012599419485942271), (235, 0.012583054796436703), (311, 0.012466017185115252), (923, 0.012323706661195803), (615, 0.012312897199620683), (203, 0.01226882241932499), (913, 0.01225773084766504), (904, 0.012257514920126868), (144, 0.012238646625942031), (671, 0.01216036936556246), (208, 0.012054210667119999), (995, 0.01200173598229924), (656, 0.01191955619989145), (59, 0.011847324356433863), (765, 0.011779139732423543), (773, 0.011676161746174226), (750, 0.011630004057096988), (882, 0.011612840643289166), (2, 0.011432005777675995), (861, 0.011422412837677918), (34, 0.011339484334551017), (515, 0.011337281286915572), (719, 0.011306308910173422), (604, 0.01130303214962205), (968, 0.011262824870949602), (846, 0.011247066629777949), (784, 0.011204486218089546), (619, 0.011168587298750931), (161, 0.01100157967879572), (366, 0.01098061726184657), (484, 0.010572550098696986), (383, 0.01054370197188545), (301, 0.010506268312009945), (107, 0.010495975253487616), (708, 0.01027635441367353), (371, 0.009970809299061894), (20, 0.009681939456394728), (267, 0.009504140791015015), (990, 0.009487173752841579), (971, 0.00942847895855413), (588, 0.008994221737609765), (828, 0.00864897665347707), (596, 0.008595086346752904), (961, 0.008177128151182692), (440, 0.007466268181656544), (0, 0.0), (64, 0.0), (82, 0.0), (96, 0.0), (99, 0.0), (100, 0.0), (113, 0.0), (136, 0.0), (154, 0.0), (173, 0.0), (217, 0.0), (251, 0.0), (259, 0.0), (290, 0.0), (339, 0.0), (342, 0.0), (350, 0.0), (354, 0.0), (362, 0.0), (416, 0.0), (443, 0.0), (478, 0.0), (546, 0.0), (547, 0.0), (552, 0.0), (555, 0.0), (577, 0.0), (598, 0.0), (600, 0.0), (612, 0.0), (648, 0.0), (669, 0.0), (698, 0.0), (702, 0.0), (714, 0.0), (716, 0.0), (747, 0.0), (751, 0.0), (770, 0.0), (795, 0.0), (858, 0.0), (871, 0.0), (873, 0.0), (885, 0.0), (906, 0.0), (932, 0.0), (954, 0.0), (984, 0.0)]\n"
     ]
    }
   ],
   "source": [
    "#Sorting the Movies based on similarity score\n",
    "sorted_similar_food=sorted(similarity_score,key= lambda x:x[1], reverse=True )\n",
    "#sorted is a function to sort and arrange elements in python\n",
    "#taking similarity_score and lambda x means x is similarity_score and in it take 1st index that is of score as 0th index is of just index\n",
    "#reverse=True meand in descending order\n",
    "print(sorted_similar_food)"
   ]
  },
  {
   "cell_type": "code",
   "execution_count": 39,
   "id": "ef075ccf",
   "metadata": {},
   "outputs": [
    {
     "name": "stdout",
     "output_type": "stream",
     "text": [
      "Food Suggested for you : \n",
      "1 . Panjiri Recipe \n",
      "2 . Badam Ki Kheer Recipe - Spiced Almond Milk\n",
      "3 . Spiced Festival Drink With Saffron And Dry Fruits\n",
      "4 . Dry Fruits Meetha Paneer Paratha Recipe\n",
      "5 .  Gujarati Gol Papdi\n",
      "6 . Gehun Ka Halwa Recipe \n",
      "7 . Khajur Satori Recipe \n",
      "8 . Whole Wheat Almond Bars Recipe\n",
      "9 . Sweet and Spicy Stuffed Paneer In Kofta Curry Recipe\n"
     ]
    }
   ],
   "source": [
    "#Print name of similar movies based on  index as we know them from sorted_similar_movies\n",
    "print(\"Food Suggested for you : \")\n",
    "\n",
    "i=1\n",
    "\n",
    "for food in sorted_similar_food:\n",
    "    index=food[0]\n",
    "    \n",
    "    title_of_the_food=food_data[food_data.index==index]['recipe_title'].values[0]\n",
    "    if(i<10):\n",
    "        print(i,\".\",title_of_the_food)\n",
    "        i=i+1 "
   ]
  },
  {
   "cell_type": "markdown",
   "id": "dd540eae",
   "metadata": {},
   "source": [
    "# Food Recomendation System"
   ]
  },
  {
   "cell_type": "code",
   "execution_count": 40,
   "id": "e35c12c9",
   "metadata": {},
   "outputs": [
    {
     "name": "stdout",
     "output_type": "stream",
     "text": [
      "Plz enter your Favourite Food : Pizza\n",
      "Food Suggested for you : \n",
      "1 . Pizza Pinwheels Recipe  :  https://www.archanaskitchen.com/pizza-pinwheels-recipe\n",
      "--------------------------------------------------------------------------\n",
      "2 . Whole Wheat Pita Bread Recipe  :  https://www.archanaskitchen.com/whole-wheat-pita-bread-recipe\n",
      "--------------------------------------------------------------------------\n",
      "3 . Whole Wheat Crust Pizza With Zucchini And Basil Sauce  :  https://www.archanaskitchen.com/whole-wheat-crust-pizza-with-zucchini-and-basil-sauce\n",
      "--------------------------------------------------------------------------\n",
      "4 . Whole Wheat Vegetarian Stromboli Recipe  :  https://www.archanaskitchen.com/whole-wheat-vegetarian-stromboli-recipe\n",
      "--------------------------------------------------------------------------\n",
      "5 . Pull Apart Mini Pizza Boats Recipe  :  https://www.archanaskitchen.com/pull-apart-mini-pizza-boats-recipe\n",
      "--------------------------------------------------------------------------\n",
      "6 . Whole Wheat Sun Dried Tomato Focaccia Bread   :  https://www.archanaskitchen.com/sundried-tomato-focaccia-bread-recipe\n",
      "--------------------------------------------------------------------------\n",
      "7 . Roasted Garlic No Knead Skillet Bread Recipe With Olives  :  https://www.archanaskitchen.com/roasted-garlic-no-knead-skillet-bread-recipe-with-olives\n",
      "--------------------------------------------------------------------------\n",
      "8 . Italian Oat Crust Pizza Topped With Spinach And Paneer Recipe  :  https://www.archanaskitchen.com/italian-oat-crust-pizza-topped-withspinach-and-paneer\n",
      "--------------------------------------------------------------------------\n",
      "9 . Whole Wheat and Ragi Crust Skillet Pizza Recipe  :  https://www.archanaskitchen.com/whole-wheat-ragi-crust-skillet-pizza-topped-with-roasted-zucchini-olives\n",
      "--------------------------------------------------------------------------\n",
      "10 . Oven Baked Rice Casserole Recipe   :  https://www.archanaskitchen.com/oven-baked-rice-casserole-recipe\n",
      "--------------------------------------------------------------------------\n"
     ]
    }
   ],
   "source": [
    "food_name=input(\"Plz enter your Favourite Food : \")\n",
    "\n",
    "list_of_all_food=food_data[\"recipe_title\"].tolist()\n",
    "\n",
    "find_close_match=difflib.get_close_matches(food_name,list_of_all_food,cutoff=0.001)\n",
    "\n",
    "close_match=find_close_match[0]\n",
    "\n",
    "index_of_the_food=food_data[food_data.recipe_title==close_match]['index'].values[0]\n",
    "\n",
    "similarity_score=list(enumerate(similarity[index_of_the_food]))\n",
    "\n",
    "sorted_similar_food=sorted(similarity_score,key= lambda x:x[1], reverse=True )\n",
    "\n",
    "print(\"Food Suggested for you : \")\n",
    "\n",
    "i=1\n",
    "\n",
    "for food in sorted_similar_food:\n",
    "    index=food[0]\n",
    "    \n",
    "    title_of_the_food=food_data[food_data.index==index]['recipe_title'].values[0]\n",
    "    recipe_of_the_food=food_data[food_data.index==index]['url'].values[0]\n",
    "    if(i<11):\n",
    "        print(i,\".\",title_of_the_food,\" : \",recipe_of_the_food)\n",
    "        print(\"--------------------------------------------------------------------------\")\n",
    "        i=i+1      "
   ]
  },
  {
   "cell_type": "code",
   "execution_count": null,
   "id": "d76692c5",
   "metadata": {},
   "outputs": [],
   "source": []
  }
 ],
 "metadata": {
  "kernelspec": {
   "display_name": "Python 3 (ipykernel)",
   "language": "python",
   "name": "python3"
  },
  "language_info": {
   "codemirror_mode": {
    "name": "ipython",
    "version": 3
   },
   "file_extension": ".py",
   "mimetype": "text/x-python",
   "name": "python",
   "nbconvert_exporter": "python",
   "pygments_lexer": "ipython3",
   "version": "3.10.4"
  }
 },
 "nbformat": 4,
 "nbformat_minor": 5
}
